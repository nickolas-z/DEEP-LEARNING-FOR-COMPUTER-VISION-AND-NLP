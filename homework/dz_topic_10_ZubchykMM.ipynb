{
 "cells": [
  {
   "cell_type": "markdown",
   "id": "c0d58a8f",
   "metadata": {},
   "source": [
    "# [Домашнє завдання до модуля «Вступ до NLP»](https://www.edu.goit.global/learn/25315460/26519706/26524723/homework)"
   ]
  },
  {
   "cell_type": "markdown",
   "id": "7429c7dc",
   "metadata": {},
   "source": [
    "## Dataset: [Email Spam Detection Dataset (classification)](https://www.kaggle.com/datasets/shantanudhakadd/email-spam-detection-dataset-classification)"
   ]
  },
  {
   "cell_type": "markdown",
   "id": "35646630",
   "metadata": {},
   "source": [
    "### Imports & Config"
   ]
  },
  {
   "cell_type": "code",
   "execution_count": 131,
   "id": "8971c1fd",
   "metadata": {
    "_cell_guid": "b1076dfc-b9ad-4769-8c92-a6c4dae69d19",
    "_uuid": "8f2839f25d086af736a60e9eeb907d3b93b6e0e5",
    "execution": {
     "iopub.execute_input": "2025-02-08T14:47:41.880338Z",
     "iopub.status.busy": "2025-02-08T14:47:41.880050Z",
     "iopub.status.idle": "2025-02-08T14:47:51.157149Z",
     "shell.execute_reply": "2025-02-08T14:47:51.156358Z"
    },
    "papermill": {
     "duration": 9.283476,
     "end_time": "2025-02-08T14:47:51.158659",
     "exception": false,
     "start_time": "2025-02-08T14:47:41.875183",
     "status": "completed"
    },
    "tags": []
   },
   "outputs": [],
   "source": [
    "import os, warnings\n",
    "import pandas as pd\n",
    "import numpy as np\n",
    "from sklearn.model_selection import train_test_split\n",
    "from sklearn.feature_extraction.text import CountVectorizer, TfidfVectorizer\n",
    "from sklearn.linear_model import LogisticRegression\n",
    "from sklearn.ensemble import RandomForestClassifier\n",
    "from sklearn.metrics import accuracy_score, roc_auc_score\n",
    "import nltk\n",
    "import matplotlib.pyplot as plt\n",
    "import re\n",
    "from nltk.corpus import stopwords\n",
    "from nltk.stem import WordNetLemmatizer\n",
    "\n",
    "\n",
    "warnings.filterwarnings(\"ignore\")\n",
    "plt.style.use(\"seaborn-v0_8\")\n",
    "\n",
    "%matplotlib inline\n"
   ]
  },
  {
   "cell_type": "markdown",
   "id": "9499622d",
   "metadata": {},
   "source": [
    "### Load data"
   ]
  },
  {
   "cell_type": "code",
   "execution_count": 132,
   "id": "b7d03f9f",
   "metadata": {},
   "outputs": [
    {
     "name": "stdout",
     "output_type": "stream",
     "text": [
      "Total messages: 5572\n",
      "label\n",
      "ham     4825\n",
      "spam     747\n",
      "Name: count, dtype: int64\n"
     ]
    },
    {
     "data": {
      "text/html": [
       "<div>\n",
       "<style scoped>\n",
       "    .dataframe tbody tr th:only-of-type {\n",
       "        vertical-align: middle;\n",
       "    }\n",
       "\n",
       "    .dataframe tbody tr th {\n",
       "        vertical-align: top;\n",
       "    }\n",
       "\n",
       "    .dataframe thead th {\n",
       "        text-align: right;\n",
       "    }\n",
       "</style>\n",
       "<table border=\"1\" class=\"dataframe\">\n",
       "  <thead>\n",
       "    <tr style=\"text-align: right;\">\n",
       "      <th></th>\n",
       "      <th>label</th>\n",
       "      <th>text</th>\n",
       "    </tr>\n",
       "  </thead>\n",
       "  <tbody>\n",
       "    <tr>\n",
       "      <th>0</th>\n",
       "      <td>ham</td>\n",
       "      <td>Go until jurong point, crazy.. Available only ...</td>\n",
       "    </tr>\n",
       "    <tr>\n",
       "      <th>1</th>\n",
       "      <td>ham</td>\n",
       "      <td>Ok lar... Joking wif u oni...</td>\n",
       "    </tr>\n",
       "    <tr>\n",
       "      <th>2</th>\n",
       "      <td>spam</td>\n",
       "      <td>Free entry in 2 a wkly comp to win FA Cup fina...</td>\n",
       "    </tr>\n",
       "    <tr>\n",
       "      <th>3</th>\n",
       "      <td>ham</td>\n",
       "      <td>U dun say so early hor... U c already then say...</td>\n",
       "    </tr>\n",
       "    <tr>\n",
       "      <th>4</th>\n",
       "      <td>ham</td>\n",
       "      <td>Nah I don't think he goes to usf, he lives aro...</td>\n",
       "    </tr>\n",
       "  </tbody>\n",
       "</table>\n",
       "</div>"
      ],
      "text/plain": [
       "  label                                               text\n",
       "0   ham  Go until jurong point, crazy.. Available only ...\n",
       "1   ham                      Ok lar... Joking wif u oni...\n",
       "2  spam  Free entry in 2 a wkly comp to win FA Cup fina...\n",
       "3   ham  U dun say so early hor... U c already then say...\n",
       "4   ham  Nah I don't think he goes to usf, he lives aro..."
      ]
     },
     "execution_count": 132,
     "metadata": {},
     "output_type": "execute_result"
    }
   ],
   "source": [
    "file_path = os.path.expanduser(\"~/Projects/DataSets/GoIT/EmailSpamDetectionDataset/spam.csv\")\n",
    "\n",
    "df = pd.read_csv(file_path, encoding=\"latin-1\")\n",
    "df = df.rename(columns={\"v1\": \"label\", \"v2\": \"text\"})\n",
    "df = df[[\"label\", \"text\"]]\n",
    "\n",
    "print(f\"Total messages: {df.shape[0]}\")\n",
    "print(df[\"label\"].value_counts())\n",
    "df.head(5)"
   ]
  },
  {
   "cell_type": "markdown",
   "id": "7ca8f7b2",
   "metadata": {},
   "source": [
    "### EDA"
   ]
  },
  {
   "cell_type": "code",
   "execution_count": 133,
   "id": "cff19755",
   "metadata": {},
   "outputs": [
    {
     "name": "stdout",
     "output_type": "stream",
     "text": [
      "Average words in ham: 14.20062176165803\n",
      "Average words in spam: 23.85140562248996\n"
     ]
    }
   ],
   "source": [
    "df[\"num_words\"] = df[\"text\"].apply(lambda x: len(x.split()))\n",
    "print(\"Average words in ham:\", df[df[\"label\"] == \"ham\"][\"num_words\"].mean())\n",
    "print(\"Average words in spam:\", df[df[\"label\"] == \"spam\"][\"num_words\"].mean())"
   ]
  },
  {
   "cell_type": "markdown",
   "id": "9e9d5a9d",
   "metadata": {},
   "source": [
    "### Text preprocessing (cleaning, tokenization, stop words removal, lemmatization)"
   ]
  },
  {
   "cell_type": "code",
   "execution_count": 134,
   "id": "73311fdb",
   "metadata": {},
   "outputs": [
    {
     "name": "stdout",
     "output_type": "stream",
     "text": [
      "Original: Free entry in 2 a wkly comp to win FA Cup final tkts 21st May 2005. Text FA to 87121 to receive entry question(std txt rate)T&C's apply 08452810075over18's\n",
      "After cleaning: free entry wkly comp win fa cup final tkts st may text fa receive entry question std txt rate c apply\n"
     ]
    },
    {
     "name": "stderr",
     "output_type": "stream",
     "text": [
      "[nltk_data] Downloading package stopwords to\n",
      "[nltk_data]     /home/nickolasz/nltk_data...\n",
      "[nltk_data]   Package stopwords is already up-to-date!\n",
      "[nltk_data] Downloading package wordnet to\n",
      "[nltk_data]     /home/nickolasz/nltk_data...\n",
      "[nltk_data]   Package wordnet is already up-to-date!\n"
     ]
    }
   ],
   "source": [
    "nltk.download(\"stopwords\")\n",
    "nltk.download(\"wordnet\")\n",
    "\n",
    "stop_words = set(stopwords.words(\"english\"))\n",
    "lemmatizer = WordNetLemmatizer()\n",
    "\n",
    "def preprocess_text(text):\n",
    "    text = text.lower()\n",
    "    text = re.sub(r\"[^a-z\\s]\", \" \", text)\n",
    "    tokens = text.split()\n",
    "    tokens = [word for word in tokens if word not in stop_words]\n",
    "    tokens = [lemmatizer.lemmatize(word) for word in tokens]\n",
    "    return \" \".join(tokens)\n",
    "\n",
    "df[\"text_clean\"] = df[\"text\"].apply(preprocess_text)\n",
    "\n",
    "print(\"Original:\", df.loc[2, \"text\"])\n",
    "print(\"After cleaning:\", df.loc[2, \"text_clean\"])"
   ]
  },
  {
   "cell_type": "markdown",
   "id": "ca7069e9",
   "metadata": {},
   "source": [
    "### Splitting the dataset into training and test sets"
   ]
  },
  {
   "cell_type": "code",
   "execution_count": 135,
   "id": "c3152da2",
   "metadata": {},
   "outputs": [
    {
     "name": "stdout",
     "output_type": "stream",
     "text": [
      "Train size: 4457 Test size: 1115\n",
      "Spam in training set: 598 (13.42%)\n",
      "Spam in test set: 149 (13.36%)\n"
     ]
    }
   ],
   "source": [
    "df[\"label_num\"] = df[\"label\"].map({\"ham\": 0, \"spam\": 1})\n",
    "\n",
    "X_train, X_test, y_train, y_test = train_test_split(\n",
    "    df[\"text_clean\"],\n",
    "    df[\"label_num\"],\n",
    "    test_size=0.2,\n",
    "    stratify=df[\"label_num\"],\n",
    "    random_state=42,\n",
    ")\n",
    "\n",
    "print(\"Train size:\", len(X_train), \"Test size:\", len(X_test))\n",
    "print(f\"Spam in training set: {sum(y_train)} ({100 * sum(y_train) / len(y_train):.2f}%)\")\n",
    "print(f\"Spam in test set: {sum(y_test)} ({100 * sum(y_test) / len(y_test):.2f}%)\")"
   ]
  },
  {
   "cell_type": "markdown",
   "id": "168f3abf",
   "metadata": {},
   "source": [
    "### Building vector representations of text"
   ]
  },
  {
   "cell_type": "markdown",
   "id": "80d732c0",
   "metadata": {},
   "source": [
    "#### Bag-of-Words"
   ]
  },
  {
   "cell_type": "code",
   "execution_count": 136,
   "id": "d6d7a645",
   "metadata": {},
   "outputs": [
    {
     "name": "stdout",
     "output_type": "stream",
     "text": [
      "Dimension of BoW matrix (train): (4457, 6256)\n",
      "Example fragment of the vector for the first message:\n",
      " [[0 0 0 0 0 0 0 0 0 0]]\n",
      "Number of unique words (vocabulary size): 6256\n"
     ]
    }
   ],
   "source": [
    "vectorizer_bow = CountVectorizer()\n",
    "X_train_bow = vectorizer_bow.fit_transform(X_train)\n",
    "X_test_bow = vectorizer_bow.transform(X_test)\n",
    "\n",
    "print(f\"Dimension of BoW matrix (train): {X_train_bow.shape}\")\n",
    "print(f\"Example fragment of the vector for the first message:\\n {X_train_bow[0, :10].toarray()}\")\n",
    "print(f\"Number of unique words (vocabulary size): {len(vectorizer_bow.vocabulary_)}\")"
   ]
  },
  {
   "cell_type": "markdown",
   "id": "a07ebcfb",
   "metadata": {},
   "source": [
    "#### TF-IDF"
   ]
  },
  {
   "cell_type": "code",
   "execution_count": 137,
   "id": "9716a5d0",
   "metadata": {},
   "outputs": [
    {
     "name": "stdout",
     "output_type": "stream",
     "text": [
      "Dimension of TF-IDF matrix (train): (4457, 6256)\n",
      "Example values of TF-IDF for the first 5 words of the first message:\n",
      " [[          0           0           0           0           0]]\n"
     ]
    }
   ],
   "source": [
    "vectorizer_tfidf = TfidfVectorizer()\n",
    "X_train_tfidf = vectorizer_tfidf.fit_transform(X_train)\n",
    "X_test_tfidf = vectorizer_tfidf.transform(X_test)\n",
    "\n",
    "print(f\"Dimension of TF-IDF matrix (train): {X_train_tfidf.shape}\")\n",
    "print(f\"Example values of TF-IDF for the first 5 words of the first message:\\n {X_train_tfidf[0, :5].toarray()}\")"
   ]
  },
  {
   "cell_type": "markdown",
   "id": "5501d5be",
   "metadata": {},
   "source": [
    "#### GloVe"
   ]
  },
  {
   "cell_type": "code",
   "execution_count": 138,
   "id": "514b9185",
   "metadata": {},
   "outputs": [
    {
     "name": "stdout",
     "output_type": "stream",
     "text": [
      "Dimension of feature matrix GloVe (train): (4457, 200)\n",
      "Example vector for the first message (first 5 values):\n",
      " [    0.18843     0.20657    -0.17694   0.0070273    -0.15165]\n"
     ]
    }
   ],
   "source": [
    "glove_path = os.path.expanduser(\"~/Projects/DataSets/GoIT/EmailSpamDetectionDataset/glove.6B.200d.txt\")\n",
    "embedding_index = {}\n",
    "with open(glove_path, \"r\", encoding=\"utf8\") as f:\n",
    "    for line in f:\n",
    "        values = line.split()\n",
    "        word = values[0]\n",
    "        vector = np.array(values[1:], dtype=\"float32\")\n",
    "        embedding_index[word] = vector\n",
    "\n",
    "def text_to_embedding(text):\n",
    "    words = text.split()\n",
    "    word_vecs = [embedding_index[w] for w in words if w in embedding_index]\n",
    "    if len(word_vecs) == 0:\n",
    "        return np.zeros(200)\n",
    "    word_vecs = np.array(word_vecs)\n",
    "    return word_vecs.mean(axis=0)\n",
    "\n",
    "\n",
    "X_train_glove = np.vstack(X_train.apply(text_to_embedding).values)\n",
    "X_test_glove = np.vstack(X_test.apply(text_to_embedding).values)\n",
    "\n",
    "print(f\"Dimension of feature matrix GloVe (train): {X_train_glove.shape}\")\n",
    "print(f\"Example vector for the first message (first 5 values):\\n {X_train_glove[0][:5]}\")"
   ]
  },
  {
   "cell_type": "markdown",
   "id": "6956d349",
   "metadata": {},
   "source": [
    "### Models"
   ]
  },
  {
   "cell_type": "markdown",
   "id": "718b148c",
   "metadata": {},
   "source": [
    "#### Logistic Regression, Random Forest"
   ]
  },
  {
   "cell_type": "code",
   "execution_count": 139,
   "id": "816ef047",
   "metadata": {},
   "outputs": [
    {
     "name": "stdout",
     "output_type": "stream",
     "text": [
      "Logistic Regression (BoW) - Accuracy: 0.9812, AUC: 0.9838\n"
     ]
    }
   ],
   "source": [
    "model_lr_bow = LogisticRegression(max_iter=1000, random_state=42)\n",
    "model_lr_bow.fit(X_train_bow, y_train)\n",
    "y_pred_bow_lr = model_lr_bow.predict(X_test_bow)\n",
    "y_prob_bow_lr = model_lr_bow.predict_proba(X_test_bow)[:, 1]\n",
    "\n",
    "acc_bow_lr = accuracy_score(y_test, y_pred_bow_lr)\n",
    "auc_bow_lr = roc_auc_score(y_test, y_prob_bow_lr)\n",
    "print(f\"Logistic Regression (BoW) - Accuracy: {acc_bow_lr:.4f}, AUC: {auc_bow_lr:.4f}\")"
   ]
  },
  {
   "cell_type": "code",
   "execution_count": 140,
   "id": "d188f4be",
   "metadata": {},
   "outputs": [
    {
     "name": "stdout",
     "output_type": "stream",
     "text": [
      "Random Forest (BoW) - Accuracy: 0.9749, AUC: 0.9807\n"
     ]
    }
   ],
   "source": [
    "model_rf_bow = RandomForestClassifier(n_estimators=100, random_state=42)\n",
    "model_rf_bow.fit(X_train_bow, y_train)\n",
    "y_pred_bow_rf = model_rf_bow.predict(X_test_bow)\n",
    "y_prob_bow_rf = model_rf_bow.predict_proba(X_test_bow)[:, 1]\n",
    "\n",
    "acc_bow_rf = accuracy_score(y_test, y_pred_bow_rf)\n",
    "auc_bow_rf = roc_auc_score(y_test, y_prob_bow_rf)\n",
    "print(f\"Random Forest (BoW) - Accuracy: {acc_bow_rf:.4f}, AUC: {auc_bow_rf:.4f}\")"
   ]
  },
  {
   "cell_type": "markdown",
   "id": "b72ae194",
   "metadata": {},
   "source": [
    "#### TF-IDF"
   ]
  },
  {
   "cell_type": "code",
   "execution_count": 141,
   "id": "acd5c306",
   "metadata": {},
   "outputs": [
    {
     "name": "stdout",
     "output_type": "stream",
     "text": [
      "Logistic Regression (TF-IDF) - Accuracy: 0.9695, AUC: 0.9856\n"
     ]
    }
   ],
   "source": [
    "model_lr_tfidf = LogisticRegression(max_iter=1000, random_state=42)\n",
    "model_lr_tfidf.fit(X_train_tfidf, y_train)\n",
    "y_pred_tfidf_lr = model_lr_tfidf.predict(X_test_tfidf)\n",
    "y_prob_tfidf_lr = model_lr_tfidf.predict_proba(X_test_tfidf)[:, 1]\n",
    "\n",
    "acc_tfidf_lr = accuracy_score(y_test, y_pred_tfidf_lr)\n",
    "auc_tfidf_lr = roc_auc_score(y_test, y_prob_tfidf_lr)\n",
    "print(\n",
    "    f\"Logistic Regression (TF-IDF) - Accuracy: {acc_tfidf_lr:.4f}, AUC: {auc_tfidf_lr:.4f}\"\n",
    ")"
   ]
  },
  {
   "cell_type": "code",
   "execution_count": 142,
   "id": "d4c888e9",
   "metadata": {},
   "outputs": [
    {
     "name": "stdout",
     "output_type": "stream",
     "text": [
      "Random Forest (TF-IDF) - Accuracy: 0.9776, AUC: 0.9801\n"
     ]
    }
   ],
   "source": [
    "model_rf_tfidf = RandomForestClassifier(n_estimators=100, random_state=42)\n",
    "model_rf_tfidf.fit(X_train_tfidf, y_train)\n",
    "y_pred_tfidf_rf = model_rf_tfidf.predict(X_test_tfidf)\n",
    "y_prob_tfidf_rf = model_rf_tfidf.predict_proba(X_test_tfidf)[:, 1]\n",
    "\n",
    "acc_tfidf_rf = accuracy_score(y_test, y_pred_tfidf_rf)\n",
    "auc_tfidf_rf = roc_auc_score(y_test, y_prob_tfidf_rf)\n",
    "print(f\"Random Forest (TF-IDF) - Accuracy: {acc_tfidf_rf:.4f}, AUC: {auc_tfidf_rf:.4f}\")"
   ]
  },
  {
   "cell_type": "markdown",
   "id": "9cb66803",
   "metadata": {},
   "source": [
    "#### GloVe"
   ]
  },
  {
   "cell_type": "code",
   "execution_count": 143,
   "id": "af7b6b28",
   "metadata": {},
   "outputs": [
    {
     "name": "stdout",
     "output_type": "stream",
     "text": [
      "Logistic Regression (GloVe) - Accuracy: 0.9471, AUC: 0.9717\n"
     ]
    }
   ],
   "source": [
    "model_lr_glove = LogisticRegression(max_iter=1000, random_state=42)\n",
    "model_lr_glove.fit(X_train_glove, y_train)\n",
    "y_pred_glove_lr = model_lr_glove.predict(X_test_glove)\n",
    "y_prob_glove_lr = model_lr_glove.predict_proba(X_test_glove)[:, 1]\n",
    "\n",
    "acc_glove_lr = accuracy_score(y_test, y_pred_glove_lr)\n",
    "auc_glove_lr = roc_auc_score(y_test, y_prob_glove_lr)\n",
    "print(\n",
    "    f\"Logistic Regression (GloVe) - Accuracy: {acc_glove_lr:.4f}, AUC: {auc_glove_lr:.4f}\"\n",
    ")"
   ]
  },
  {
   "cell_type": "code",
   "execution_count": 144,
   "id": "46012e18",
   "metadata": {},
   "outputs": [
    {
     "name": "stdout",
     "output_type": "stream",
     "text": [
      "Random Forest (GloVe) - Accuracy: 0.9587, AUC: 0.9651\n"
     ]
    }
   ],
   "source": [
    "model_rf_glove = RandomForestClassifier(n_estimators=100, random_state=42)\n",
    "model_rf_glove.fit(X_train_glove, y_train)\n",
    "y_pred_glove_rf = model_rf_glove.predict(X_test_glove)\n",
    "y_prob_glove_rf = model_rf_glove.predict_proba(X_test_glove)[:, 1]\n",
    "\n",
    "acc_glove_rf = accuracy_score(y_test, y_pred_glove_rf)\n",
    "auc_glove_rf = roc_auc_score(y_test, y_prob_glove_rf)\n",
    "print(f\"Random Forest (GloVe) - Accuracy: {acc_glove_rf:.4f}, AUC: {auc_glove_rf:.4f}\")"
   ]
  },
  {
   "cell_type": "markdown",
   "id": "5389864f",
   "metadata": {},
   "source": [
    "### Plotting model performance comparison"
   ]
  },
  {
   "cell_type": "code",
   "execution_count": null,
   "id": "4f03c46e",
   "metadata": {},
   "outputs": [
    {
     "data": {
      "image/png": "[encoded data removed]",
      "text/plain": [
       "<Figure size 1000x600 with 1 Axes>"
      ]
     },
     "metadata": {},
     "output_type": "display_data"
    }
   ],
   "source": [
    "\n",
    "labels = ['BoW-LR', 'BoW-RF', 'TF-IDF-LR', 'TF-IDF-RF', 'GloVe-LR', 'GloVe-RF']\n",
    "accuracies = [acc_bow_lr, acc_bow_rf, acc_tfidf_lr, acc_tfidf_rf, acc_glove_lr, acc_glove_rf]\n",
    "aucs       = [auc_bow_lr, auc_bow_rf, auc_tfidf_lr, auc_tfidf_rf, auc_glove_lr, auc_glove_rf]\n",
    "\n",
    "x = np.arange(len(labels))\n",
    "width = 0.35\n",
    "\n",
    "fig, ax = plt.subplots(figsize=(10, 6))\n",
    "ax.bar(x - width/2, accuracies, width, label='Accuracy')\n",
    "ax.bar(x + width/2, aucs, width, label='AUC')\n",
    "\n",
    "ax.set_xticks(x)\n",
    "ax.set_xticklabels(labels, rotation=45, ha='right')\n",
    "ax.set_ylabel('Score')\n",
    "ax.set_title('Spam Detection: Model Performance')\n",
    "ax.legend()\n",
    "plt.tight_layout()\n",
    "plt.show()"
   ]
  },
  {
   "cell_type": "markdown",
   "id": "142c0bc1",
   "metadata": {},
   "source": [
    "## Conclusion"
   ]
  },
  {
   "cell_type": "markdown",
   "id": "1aabfc59",
   "metadata": {},
   "source": [
    "Для задачі класифікації спам vs ham із текстів повідомлень найкращим підходом виявився векторизація TF-IDF або BoW у поєднанні з логістичною регресією – цей метод дав найвищу точність і AUC. Він перевершує більш складний підхід із середніми GloVe-ембеддингами в даному експерименті. \n",
    "Причина – ключові слова грають вирішальну роль у визначенні спаму, і методи на основі частот слів безпосередньо їх фіксують. \n",
    "Random Forest теж показав себе добре, але трохи поступився логістичній регресії. \n",
    "Отже, простий лінійний алгоритм на розріджених текстових ознаках став найуспішнішим для цього завдання, досягнувши ~97–98% точності на тестових даних\n",
    "Це демонструє, що навіть базові методи NLP можуть бути надзвичайно ефективними для виявлення спаму."
   ]
  }
 ],
 "metadata": {
  "kaggle": {
   "accelerator": "gpu",
   "dataSources": [
    {
     "datasetId": 111880,
     "sourceId": 269359,
     "sourceType": "datasetVersion"
    }
   ],
   "dockerImageVersionId": 30887,
   "isGpuEnabled": true,
   "isInternetEnabled": true,
   "language": "python",
   "sourceType": "notebook"
  },
  "kernelspec": {
   "display_name": ".venv",
   "language": "python",
   "name": "python3"
  },
  "language_info": {
   "codemirror_mode": {
    "name": "ipython",
    "version": 3
   },
   "file_extension": ".py",
   "mimetype": "text/x-python",
   "name": "python",
   "nbconvert_exporter": "python",
   "pygments_lexer": "ipython3",
   "version": "3.12.3"
  },
  "papermill": {
   "default_parameters": {},
   "duration": 319.641041,
   "end_time": "2025-02-08T14:52:58.946835",
   "environment_variables": {},
   "exception": true,
   "input_path": "__notebook__.ipynb",
   "output_path": "__notebook__.ipynb",
   "parameters": {},
   "start_time": "2025-02-08T14:47:39.305794",
   "version": "2.6.0"
  }
 },
 "nbformat": 4,
 "nbformat_minor": 5
}
