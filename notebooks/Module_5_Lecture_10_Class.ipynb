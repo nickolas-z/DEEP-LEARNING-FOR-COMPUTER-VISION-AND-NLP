{
 "cells": [
  {
   "cell_type": "code",
   "execution_count": 1,
   "id": "652a1da5",
   "metadata": {},
   "outputs": [
    {
     "name": "stderr",
     "output_type": "stream",
     "text": [
      "/usr/lib/python3/dist-packages/paramiko/transport.py:237: CryptographyDeprecationWarning: Blowfish has been deprecated\n",
      "  \"class\": algorithms.Blowfish,\n"
     ]
    }
   ],
   "source": [
    "import re\n",
    "import os\n",
    "import gc\n",
    "import datetime\n",
    "\n",
    "import pandas as pd\n",
    "import numpy as np\n",
    "\n",
    "from nltk.corpus import stopwords\n",
    "from nltk.tokenize import word_tokenize\n",
    "\n",
    "import gensim\n",
    "from gensim.models import word2vec\n",
    "from gensim.models import KeyedVectors #  implements word vectors\n",
    "from gensim.test.utils import datapath, get_tmpfile\n",
    "from gensim.scripts.glove2word2vec import glove2word2vec\n",
    "\n",
    "from sklearn.manifold import TSNE\n",
    "from sklearn.metrics import roc_auc_score\n",
    "from sklearn.linear_model import LogisticRegression\n",
    "\n",
    "import matplotlib.cm as cm\n",
    "\n",
    "import spacy\n",
    "\n",
    "from tqdm.auto import tqdm\n",
    "tqdm.pandas()\n",
    "\n",
    "import matplotlib.pyplot as plt"
   ]
  },
  {
   "cell_type": "code",
   "execution_count": 2,
   "id": "26b6375c",
   "metadata": {},
   "outputs": [
    {
     "data": {
      "text/plain": [
       "(364133, 10)"
      ]
     },
     "execution_count": 2,
     "metadata": {},
     "output_type": "execute_result"
    }
   ],
   "source": [
    "df = pd.read_csv('../data/Module_5_Lecture_1_Class_amazon_product_reviews.csv', index_col='Id')\n",
    "\n",
    "# Quick data pre-processing\n",
    "\n",
    "df = df.loc[df['Score']!=3]\n",
    "\n",
    "df['sentiment'] = [1 if score in [4, 5] else 0 for score in df['Score']]\n",
    "\n",
    "df = df.drop_duplicates().reset_index(drop=True)\n",
    "\n",
    "df = df.drop_duplicates(subset={\"UserId\", \"Time\",\"Text\"})\n",
    "\n",
    "# Final size \n",
    "\n",
    "df.shape"
   ]
  },
  {
   "cell_type": "code",
   "execution_count": 3,
   "id": "35fb434d",
   "metadata": {
    "code_folding": []
   },
   "outputs": [],
   "source": [
    "# Contractions. Source http://stackoverflow.com/questions/19790188/expanding-english-language-contractions-in-python\n",
    "\n",
    "contractions = { \n",
    "\"ain't\": \"am not\",\n",
    "\"aren't\": \"are not\",\n",
    "\"can't\": \"cannot\",\n",
    "\"can't've\": \"cannot have\",\n",
    "\"'cause\": \"because\",\n",
    "\"could've\": \"could have\",\n",
    "\"couldn't\": \"could not\",\n",
    "\"couldn't've\": \"could not have\",\n",
    "\"didn't\": \"did not\",\n",
    "\"doesn't\": \"does not\",\n",
    "\"don't\": \"do not\",\n",
    "\"hadn't\": \"had not\",\n",
    "\"hadn't've\": \"had not have\",\n",
    "\"hasn't\": \"has not\",\n",
    "\"haven't\": \"have not\",\n",
    "\"he'd\": \"he would\",\n",
    "\"he'd've\": \"he would have\",\n",
    "\"he'll\": \"he will\",\n",
    "\"he's\": \"he is\",\n",
    "\"how'd\": \"how did\",\n",
    "\"how'll\": \"how will\",\n",
    "\"how's\": \"how is\",\n",
    "\"i'd\": \"i would\",\n",
    "\"i'll\": \"i will\",\n",
    "\"i'm\": \"i am\",\n",
    "\"i've\": \"i have\",\n",
    "\"isn't\": \"is not\",\n",
    "\"it'd\": \"it would\",\n",
    "\"it'll\": \"it will\",\n",
    "\"it's\": \"it is\",\n",
    "\"let's\": \"let us\",\n",
    "\"ma'am\": \"madam\",\n",
    "\"mayn't\": \"may not\",\n",
    "\"might've\": \"might have\",\n",
    "\"mightn't\": \"might not\",\n",
    "\"must've\": \"must have\",\n",
    "\"mustn't\": \"must not\",\n",
    "\"needn't\": \"need not\",\n",
    "\"oughtn't\": \"ought not\",\n",
    "\"shan't\": \"shall not\",\n",
    "\"sha'n't\": \"shall not\",\n",
    "\"she'd\": \"she would\",\n",
    "\"she'll\": \"she will\",\n",
    "\"she's\": \"she is\",\n",
    "\"should've\": \"should have\",\n",
    "\"shouldn't\": \"should not\",\n",
    "\"that'd\": \"that would\",\n",
    "\"that's\": \"that is\",\n",
    "\"there'd\": \"there had\",\n",
    "\"there's\": \"there is\",\n",
    "\"they'd\": \"they would\",\n",
    "\"they'll\": \"they will\",\n",
    "\"they're\": \"they are\",\n",
    "\"they've\": \"they have\",\n",
    "\"wasn't\": \"was not\",\n",
    "\"we'd\": \"we would\",\n",
    "\"we'll\": \"we will\",\n",
    "\"we're\": \"we are\",\n",
    "\"we've\": \"we have\",\n",
    "\"weren't\": \"were not\",\n",
    "\"what'll\": \"what will\",\n",
    "\"what're\": \"what are\",\n",
    "\"what's\": \"what is\",\n",
    "\"what've\": \"what have\",\n",
    "\"where'd\": \"where did\",\n",
    "\"where's\": \"where is\",\n",
    "\"who'll\": \"who will\",\n",
    "\"who's\": \"who is\",\n",
    "\"won't\": \"will not\",\n",
    "\"wouldn't\": \"would not\",\n",
    "\"you'd\": \"you would\",\n",
    "\"you'll\": \"you will\",\n",
    "\"you're\": \"you are\"\n",
    "}"
   ]
  },
  {
   "cell_type": "code",
   "execution_count": 4,
   "id": "58950b17",
   "metadata": {
    "code_folding": [
     3
    ]
   },
   "outputs": [],
   "source": [
    "# Stop-words\n",
    "stop_words = set(stopwords.words('english')).union({'also', 'would', 'much', 'many'})\n",
    "\n",
    "negations = {\n",
    "    'aren',\n",
    "    \"aren't\",\n",
    "    'couldn',\n",
    "    \"couldn't\",\n",
    "    'didn',\n",
    "    \"didn't\",\n",
    "    'doesn',\n",
    "    \"doesn't\",\n",
    "    'don',\n",
    "    \"don't\",\n",
    "    'hadn',\n",
    "    \"hadn't\",\n",
    "    'hasn',\n",
    "    \"hasn't\",\n",
    "    'haven',\n",
    "    \"haven't\",\n",
    "    'isn',\n",
    "    \"isn't\",\n",
    "    'mightn',\n",
    "    \"mightn't\",\n",
    "    'mustn',\n",
    "    \"mustn't\",\n",
    "    'needn',\n",
    "    \"needn't\",\n",
    "    'no',\n",
    "    'nor',\n",
    "    'not',\n",
    "    'shan',\n",
    "    \"shan't\",\n",
    "    'shouldn',\n",
    "    \"shouldn't\",\n",
    "    'wasn',\n",
    "    \"wasn't\",\n",
    "    'weren',\n",
    "    \"weren't\",\n",
    "    'won',\n",
    "    \"won't\",\n",
    "    'wouldn',\n",
    "    \"wouldn't\"\n",
    "}\n",
    "\n",
    "stop_words = stop_words.difference(negations)"
   ]
  },
  {
   "cell_type": "code",
   "execution_count": 5,
   "id": "6caed34b",
   "metadata": {
    "code_folding": []
   },
   "outputs": [],
   "source": [
    "nlp = spacy.load(\"en_core_web_sm\", disable = ['parser','ner'])\n",
    "\n",
    "def normalize_text(raw_review):\n",
    "    \n",
    "    # Remove html tags\n",
    "    text = re.sub(\"<[^>]*>\", \" \", raw_review) # match <> and everything in between. [^>] - match everything except >\n",
    "    \n",
    "    # Remove emails\n",
    "    text = re.sub(\"\\S*@\\S*[\\s]+\", \" \", text) # match non-whitespace characters, @ and a whitespaces in the end\n",
    "    \n",
    "    # remove links\n",
    "    text = re.sub(\"https?:\\/\\/.*?[\\s]+\", \" \", text) # match http, s - zero or once, //, \n",
    "                                                    # any char 0-unlimited, whitespaces in the end\n",
    "        \n",
    "     # Convert to lower case, split into individual words\n",
    "    text = text.lower().split()\n",
    "    \n",
    "    # Replace contractions with their full versions\n",
    "    text = [contractions.get(word) if word in contractions else word \n",
    "            for word in text]\n",
    "   \n",
    "    # Re-splitting for the correct stop-words extraction\n",
    "    text = \" \".join(text).split()    \n",
    "    \n",
    "    # Remove stop words\n",
    "    text = [word for word in text if not word in stop_words]\n",
    "\n",
    "    text = \" \".join(text)\n",
    "    \n",
    "    # Remove non-letters        \n",
    "    text = re.sub(\"[^a-zA-Z' ]\", \"\", text) # match everything except letters and '\n",
    "\n",
    "\n",
    "    # Stem words. Need to define porter stemmer above\n",
    "    # text = [stemmer.stem(word) for word in text.split()]\n",
    "\n",
    "    # Lemmatize words. Need to define lemmatizer above\n",
    "    doc = nlp(text)\n",
    "    text = \" \".join([token.lemma_ for token in doc if len(token.lemma_) > 1 ])\n",
    "    \n",
    "    # Remove excesive whitespaces\n",
    "    text = re.sub(\"[\\s]+\", \" \", text)    \n",
    "    \n",
    "    # Join the words back into one string separated by space, and return the result.\n",
    "    return(text)"
   ]
  },
  {
   "cell_type": "code",
   "execution_count": 6,
   "id": "fe22889a",
   "metadata": {},
   "outputs": [
    {
     "data": {
      "text/plain": [
       "(5000, 10)"
      ]
     },
     "execution_count": 6,
     "metadata": {},
     "output_type": "execute_result"
    }
   ],
   "source": [
    "# Slicing dataset for demonstrative purposes\n",
    "\n",
    "df = df.groupby('sentiment').sample(2500, random_state=42).reset_index(drop=True)\n",
    "\n",
    "# Note: without resetting an index we slice over the original Id`s\n",
    "df.shape"
   ]
  },
  {
   "cell_type": "code",
   "execution_count": 7,
   "id": "f9eaa4f8",
   "metadata": {},
   "outputs": [
    {
     "data": {
      "application/vnd.jupyter.widget-view+json": {
       "model_id": "f972dbf19ebe4070a2f26fc0a4b18640",
       "version_major": 2,
       "version_minor": 0
      },
      "text/plain": [
       "  0%|          | 0/5000 [00:00<?, ?it/s]"
      ]
     },
     "metadata": {},
     "output_type": "display_data"
    }
   ],
   "source": [
    "df['text_normalized'] = df['Text'].progress_apply(normalize_text)"
   ]
  },
  {
   "cell_type": "code",
   "execution_count": 8,
   "id": "290c7854",
   "metadata": {},
   "outputs": [],
   "source": [
    "def build_corpus(data):\n",
    "    \"Creates a list of lists containing words from each sentence\"\n",
    "    corpus = []\n",
    "    for sentence in data:\n",
    "        word_list = sentence.split(\" \")\n",
    "        corpus.append(word_list)    \n",
    "           \n",
    "    return corpus"
   ]
  },
  {
   "cell_type": "code",
   "execution_count": 9,
   "id": "21cfff83",
   "metadata": {},
   "outputs": [
    {
     "data": {
      "text/plain": [
       "['suppose',\n",
       " 'people',\n",
       " 'might',\n",
       " 'rate',\n",
       " 'product',\n",
       " 'high',\n",
       " 'great',\n",
       " 'substitute',\n",
       " 'bisquik',\n",
       " 'however',\n",
       " 'not',\n",
       " 'like',\n",
       " 'everything',\n",
       " 'make',\n",
       " 'tasted',\n",
       " 'like',\n",
       " 'bisquik']"
      ]
     },
     "execution_count": 9,
     "metadata": {},
     "output_type": "execute_result"
    }
   ],
   "source": [
    "corpus = build_corpus(df['text_normalized'])\n",
    "corpus[0]"
   ]
  },
  {
   "cell_type": "code",
   "execution_count": 10,
   "id": "9540e6b9",
   "metadata": {},
   "outputs": [],
   "source": [
    "# vector_size - Dimensionality of the word vectors\n",
    "# window - Maximum distance between the current and predicted word within a sentence\n",
    "# min_count - Ignores all words with total frequency lower than this\n",
    "\n",
    "model_emb_from_scratch = word2vec.Word2Vec(corpus, vector_size=100, window=5, min_count=50, workers=4)\n",
    "\n",
    "# saving vectors\n",
    "model_emb_from_scratch.wv.save_word2vec_format('../saved_models/model_emb_from_scratch.bin', binary=True)"
   ]
  },
  {
   "cell_type": "code",
   "execution_count": 11,
   "id": "1798e96d",
   "metadata": {
    "code_folding": [
     18,
     34,
     43,
     62,
     71,
     87,
     105,
     120
    ]
   },
   "outputs": [],
   "source": [
    "class WordEmbedding: \n",
    "\n",
    "    def __init__(self):\n",
    "        self.model = {}\n",
    "        \n",
    "    def convert(self, source, ipnut_file_path, output_file_path):\n",
    "        '''\n",
    "        Converts word embeddings from GloVe format to Word2Vec format\n",
    "        '''\n",
    "        if source == 'glove':\n",
    "            glove2word2vec(ipnut_file_path, output_file_path)\n",
    "        elif source in ['word2vec', 'fasttext', 'from_scratch']:\n",
    "            pass\n",
    "        else:\n",
    "            raise ValueError('Possible value of source are glove, word2vec, fasttext, or from_scratch')\n",
    "        \n",
    "    def load(self, source, file_path):\n",
    "        '''\n",
    "        Loads a specified word embedding model from a file\n",
    "        '''\n",
    "        print(datetime.datetime.now(), 'start: loading', source)\n",
    "        if source in ['glove', 'fasttext']:\n",
    "            self.model[source] = gensim.models.KeyedVectors.load_word2vec_format(file_path)\n",
    "        elif source in ['word2vec', 'from_scratch']:\n",
    "            self.model[source] = gensim.models.KeyedVectors.load_word2vec_format(file_path, binary=True)\n",
    "        else:\n",
    "            raise ValueError('Possible value of source are glove, word2vec, fasttext, or from_scratch')\n",
    "            \n",
    "        print(datetime.datetime.now(), 'end: loading', source)\n",
    "            \n",
    "        return self\n",
    "    \n",
    "    def get_model(self, source):\n",
    "        '''\n",
    "        Retrieves the loaded word embedding model\n",
    "        '''\n",
    "        if source not in ['glove', 'word2vec', 'fasttext', 'from_scratch']:\n",
    "            raise ValueError('Possible value of source are glove, word2vec, fasttext, or from_scratch')\n",
    "            \n",
    "        return self.model[source]\n",
    "    \n",
    "    def get_words(self, source, size=None):\n",
    "        '''\n",
    "        Retrieves a list of words from the model\n",
    "        '''\n",
    "        if source not in ['glove', 'word2vec', 'fasttext', 'from_scratch']:\n",
    "            raise ValueError('Possible value of source are glove, word2vec, fasttext, or from_scratch')\n",
    "\n",
    "        if size is None:\n",
    "            return [w for w in self.get_model(source=source).key_to_index]\n",
    "        else:\n",
    "            results = []\n",
    "            for i, word in enumerate(self.get_model(source=source).key_to_index):\n",
    "                if i >= size:\n",
    "                    break\n",
    "                results.append(word)\n",
    "            return results\n",
    "        \n",
    "        return Exception('Unexpected flow')\n",
    "    \n",
    "    def get_dimension(self, source):\n",
    "        '''\n",
    "        Retrieves the dimension of word vectors in the model\n",
    "        '''\n",
    "        if source not in ['glove', 'word2vec', 'fasttext', 'from_scratch']:\n",
    "            raise ValueError('Possible value of source are glove, word2vec, fasttext, or from_scratch')\n",
    "        \n",
    "        return self.get_model(source=source).vectors[0].shape[0]\n",
    "    \n",
    "    def get_vectors(self, source, words=None):\n",
    "        '''\n",
    "        Retrieves vectors for specified words or for all words in the model\n",
    "        '''\n",
    "        if source not in ['glove', 'word2vec', 'fasttext', 'from_scratch']:\n",
    "            raise ValueError('Possible value of source are glove, word2vec, fasttext, or from_scratch')\n",
    "        \n",
    "        if words is None:\n",
    "            words = self.get_words(source=source)\n",
    "            \n",
    "        embedding = np.empty((len(words), self.get_dimension(source=source)), dtype=np.float32)\n",
    "        for i, word in enumerate(words):\n",
    "            embedding[i] = self.get_vector(source=source, word=word)\n",
    "                \n",
    "        return embedding\n",
    "            \n",
    "    def get_vector(self, source, word):\n",
    "        '''\n",
    "        Retrieves the vector representation of a single word\n",
    "        '''\n",
    "        if source not in ['glove', 'word2vec', 'fasttext', 'from_scratch']:\n",
    "            raise ValueError('Possible value of source are glove, word2vec, fasttext, or from_scratch')\n",
    "            \n",
    "        if source not in self.model:\n",
    "            raise ValueError('Did not load %s model yet' % source)\n",
    "        \n",
    "        try:\n",
    "            return self.model[source][word]\n",
    "        except KeyError as e:\n",
    "            dims = self.model[source][0].shape\n",
    "            vect = np.empty(dims)\n",
    "            vect[:] = np.nan\n",
    "            return vect\n",
    "            \n",
    "    def get_synonym(self, source, word, topn=5):\n",
    "        '''\n",
    "        Retrieves synonyms for a given word\n",
    "        '''\n",
    "        if source not in ['glove', 'word2vec', 'fasttext', 'from_scratch']:\n",
    "            raise ValueError('Possible value of source are glove, word2vec, fasttext, or from_scratch')\n",
    "            \n",
    "        if source not in self.model:\n",
    "            raise ValueError('Did not load %s model yet' % source)\n",
    "        \n",
    "        try:\n",
    "            return self.model[source].most_similar(positive=word, topn=topn)\n",
    "        except KeyError as e:\n",
    "            raise\n",
    "    \n",
    "    def get_distance_between_two_words(self, source, word1, word2):\n",
    "        '''\n",
    "        Calculates cosine similarity between two words in the model\n",
    "        '''\n",
    "        if source not in ['glove', 'word2vec', 'fasttext', 'from_scratch']:\n",
    "            raise ValueError('Possible value of source are glove, word2vec, fasttext, or from_scratch')\n",
    "            \n",
    "        if source not in self.model:\n",
    "            raise ValueError('Did not load %s model yet' % source)\n",
    "        \n",
    "        try:\n",
    "            return self.model[source].similarity(word1, word2)\n",
    "        except KeyError as e:\n",
    "            raise"
   ]
  },
  {
   "cell_type": "code",
   "execution_count": 12,
   "id": "4158293c",
   "metadata": {},
   "outputs": [],
   "source": [
    "word2vec_file_path = '../pretrained_models/GoogleNews-vectors-negative300.bin'\n",
    "\n",
    "fasttext_file_path = '../pretrained_models/wiki-news-300d-1M.vec'\n",
    "\n",
    "from_scratch_file_path = '../saved_models/model_emb_from_scratch.bin'\n",
    "\n",
    "# adding absolute path for correct gensim work\n",
    "downloaded_glove_file_path = '../pretrained_models' + '/glove.6B.50d.txt'\n",
    "glove_file_path = '../pretrained_models' + '/glove.6B.50d.vec'"
   ]
  },
  {
   "cell_type": "markdown",
   "id": "4617ab69",
   "metadata": {},
   "source": [
    "____"
   ]
  },
  {
   "cell_type": "code",
   "execution_count": 14,
   "id": "3abe42ea",
   "metadata": {},
   "outputs": [
    {
     "data": {
      "text/plain": [
       "861"
      ]
     },
     "execution_count": 14,
     "metadata": {},
     "output_type": "execute_result"
    }
   ],
   "source": [
    "gc.collect()"
   ]
  },
  {
   "cell_type": "code",
   "execution_count": 15,
   "id": "3e317159",
   "metadata": {},
   "outputs": [],
   "source": [
    "word_embedding = WordEmbedding()"
   ]
  },
  {
   "cell_type": "code",
   "execution_count": 16,
   "id": "5a68d1c1",
   "metadata": {},
   "outputs": [
    {
     "name": "stderr",
     "output_type": "stream",
     "text": [
      "/tmp/ipykernel_25055/2216606991.py:11: DeprecationWarning: Call to deprecated `glove2word2vec` (KeyedVectors.load_word2vec_format(.., binary=False, no_header=True) loads GLoVE text vectors.).\n",
      "  glove2word2vec(ipnut_file_path, output_file_path)\n"
     ]
    }
   ],
   "source": [
    "# We may need to convert text file (downloaed from GloVe website) to vector format\n",
    "word_embedding.convert(source='glove', ipnut_file_path=downloaded_glove_file_path, output_file_path=glove_file_path)"
   ]
  },
  {
   "cell_type": "code",
   "execution_count": 17,
   "id": "59db1349",
   "metadata": {},
   "outputs": [
    {
     "name": "stdout",
     "output_type": "stream",
     "text": [
      "2024-08-15 15:11:10.627898 start: loading glove\n",
      "2024-08-15 15:11:18.950362 end: loading glove\n",
      "2024-08-15 15:11:18.950463 start: loading from_scratch\n",
      "2024-08-15 15:11:18.954221 end: loading from_scratch\n",
      "CPU times: user 8.26 s, sys: 67.4 ms, total: 8.33 s\n",
      "Wall time: 8.33 s\n"
     ]
    },
    {
     "data": {
      "text/plain": [
       "<__main__.WordEmbedding at 0x7f8e5d049b70>"
      ]
     },
     "execution_count": 17,
     "metadata": {},
     "output_type": "execute_result"
    }
   ],
   "source": [
    "%%time\n",
    "# word_embedding.load(source='word2vec', file_path=word2vec_file_path)\n",
    "word_embedding.load(source='glove', file_path=glove_file_path)\n",
    "# word_embedding.load(source='fasttext', file_path=fasttext_file_path)\n",
    "word_embedding.load(source='from_scratch', file_path=from_scratch_file_path)"
   ]
  },
  {
   "cell_type": "code",
   "execution_count": 18,
   "id": "be6c2700",
   "metadata": {
    "scrolled": true
   },
   "outputs": [
    {
     "name": "stdout",
     "output_type": "stream",
     "text": [
      "Source: glove\n",
      "[ 0.45281  -0.50108  -0.53714  -0.015697  0.22191   0.54602  -0.67301\n",
      " -0.6891    0.63493  -0.19726   0.33685   0.7735    0.90094   0.38488\n",
      "  0.38367   0.2657   -0.08057   0.61089  -1.2894   -0.22313  -0.61578\n",
      "  0.21697   0.35614   0.44499   0.60885  -1.1633   -1.1579    0.36118\n",
      "  0.10466  -0.78325   1.4352    0.18629  -0.26112   0.83275  -0.23123\n",
      "  0.32481   0.14485  -0.44552   0.33497  -0.95946  -0.097479  0.48138\n",
      " -0.43352   0.69455   0.91043  -0.28173   0.41637  -1.2609    0.71278\n",
      "  0.23782 ]\n",
      "50\n",
      "Source: from_scratch\n",
      "[ 0.08007126  0.07006534  0.07490037  0.6558005   0.12758356  0.17691657\n",
      "  0.1814931   0.3168262  -0.9292222  -0.68286186  0.492274   -0.36573234\n",
      "  0.06020065  0.3057309   0.08713005 -0.44987577  0.19482358 -0.21219467\n",
      " -0.541946   -0.7369006   0.16910695  0.10446227 -0.47370052 -0.09644046\n",
      " -0.42613024 -0.06913826  0.2667418   0.2716068   0.03622798  0.04990835\n",
      "  0.21567716  0.37741956 -0.15564662 -0.15684737 -0.46524787  0.41307744\n",
      " -0.5987259  -1.2573161  -0.22122099 -1.3695959   0.068601    0.4490365\n",
      "  0.8089704  -0.0869451   0.7230787   0.25510487 -0.17607792 -0.41954768\n",
      "  0.5592835  -0.18883498 -0.32224336  0.19366214 -0.21347836  0.15676458\n",
      " -0.1425694   0.7096481  -0.05038992  0.8200485   0.11790503 -0.12974489\n",
      "  0.35007283  0.44558302 -0.47113654 -0.54815954 -0.5929836   0.1676638\n",
      " -0.67988265 -0.23832461 -0.27810028  0.30129576  0.07856004  0.21733212\n",
      "  0.1703987  -0.12608969  0.347558   -0.16281447  0.6090487  -0.27414253\n",
      " -0.87035215 -0.0878827  -0.18363556  0.10071008 -0.6820528   0.43918386\n",
      " -0.23981005  0.17858437  0.08150893 -0.6535465   1.0766733   0.18883826\n",
      " -0.03780028 -0.3165992  -0.26694083  0.5102156   0.43718374 -0.27435726\n",
      "  0.69457614 -0.31749773  0.9157042  -0.23176475]\n",
      "100\n"
     ]
    }
   ],
   "source": [
    "# Get vectors\n",
    "\n",
    "for source in ['glove', 'from_scratch']: # 'word2vec', 'fasttext',\n",
    "    print('Source: %s' % (source))\n",
    "    print(word_embedding.get_vector(source=source, word='cat'))\n",
    "    print(len(word_embedding.get_vector(source=source, word='cat')))"
   ]
  },
  {
   "cell_type": "code",
   "execution_count": 19,
   "id": "20c4bf10",
   "metadata": {},
   "outputs": [
    {
     "name": "stdout",
     "output_type": "stream",
     "text": [
      "Source: glove\n",
      "[('dog', 0.9218006134033203), ('rabbit', 0.8487821221351624), ('monkey', 0.8041081428527832), ('rat', 0.7891963124275208), ('cats', 0.7865270376205444)]\n",
      "Source: from_scratch\n",
      "[('dog', 0.9890621900558472), ('treat', 0.9784572720527649), ('feed', 0.9683513641357422), ('food', 0.9581679105758667), ('they', 0.9205523729324341)]\n"
     ]
    }
   ],
   "source": [
    "# Get Most Similar Words\n",
    "\n",
    "for source in ['glove', 'from_scratch']: # 'word2vec', 'fasttext',\n",
    "    print('Source: %s' % (source))\n",
    "    print(word_embedding.get_synonym(source=source, word='cat', topn=5))"
   ]
  },
  {
   "cell_type": "code",
   "execution_count": 20,
   "id": "2fd1d0e9",
   "metadata": {},
   "outputs": [
    {
     "name": "stdout",
     "output_type": "stream",
     "text": [
      "Source: glove\n",
      "0.78390425\n"
     ]
    }
   ],
   "source": [
    "# Get Distance\n",
    "\n",
    "w1 = 'king'\n",
    "w2 = 'queen'\n",
    "\n",
    "for source in ['glove']: # 'word2vec', 'fasttext'\n",
    "    print('Source: %s' % (source))\n",
    "    print(word_embedding.get_distance_between_two_words(source=source,word1=w1, word2=w2))"
   ]
  },
  {
   "cell_type": "code",
   "execution_count": 21,
   "id": "ea796521",
   "metadata": {},
   "outputs": [],
   "source": [
    "del word_embedding"
   ]
  },
  {
   "cell_type": "code",
   "execution_count": 22,
   "id": "e899f020",
   "metadata": {},
   "outputs": [
    {
     "data": {
      "text/plain": [
       "0"
      ]
     },
     "execution_count": 22,
     "metadata": {},
     "output_type": "execute_result"
    }
   ],
   "source": [
    "gc.collect()"
   ]
  },
  {
   "cell_type": "markdown",
   "id": "90411fc5",
   "metadata": {},
   "source": [
    "___"
   ]
  },
  {
   "cell_type": "markdown",
   "id": "2e823141",
   "metadata": {},
   "source": [
    "**Important**\n",
    "\n",
    "At this point, your machine may run out of memory. In the next step, the kernel may die.\n",
    "It's highly recommended to restart the kernel and run everything till the following part:\n",
    "\n",
    "```\n",
    "word2vec_file_path = '../pretrained_models/GoogleNews-vectors-negative300.bin'\n",
    "\n",
    "fasttext_file_path = '../pretrained_models/wiki-news-300d-1M.vec'\n",
    "\n",
    "from_scratch_file_path = '../saved_models/model_emb_from_scratch.bin'\n",
    "\n",
    "# adding absolute path for correct gensim work\n",
    "downloaded_glove_file_path = '../pretrained_models' + '/glove.6B.50d.txt'\n",
    "glove_file_path = '../pretrained_models' + '/glove.6B.50d.vec'word2vec_file_path = '../pretrained_models/GoogleNews-vectors-negative300.bin'\n",
    "\n",
    "fasttext_file_path = '../pretrained_models/wiki-news-300d-1M.vec'\n",
    "\n",
    "from_scratch_file_path = '../saved_models/model_emb_from_scratch.bin'\n",
    "\n",
    "# adding absolute path for correct gensim work\n",
    "downloaded_glove_file_path = '../pretrained_models' + '/glove.6B.50d.txt'\n",
    "glove_file_path = '../pretrained_models' + '/glove.6B.50d.vec'\n",
    "```\n",
    "\n",
    "Skip the code after (this code is separated with the markdown) and proceed running the code starting the next cell."
   ]
  },
  {
   "cell_type": "code",
   "execution_count": 13,
   "id": "60b2432a",
   "metadata": {},
   "outputs": [],
   "source": [
    "model = gensim.models.KeyedVectors.load_word2vec_format(word2vec_file_path, binary=True)"
   ]
  },
  {
   "cell_type": "code",
   "execution_count": 14,
   "id": "69fc678e",
   "metadata": {},
   "outputs": [],
   "source": [
    "keys = ['Paris', 'Python', 'Sunday', 'Shakespeare', 'Twitter', 'bachelor', 'delivery', 'election', 'expensive',\n",
    "        'experience', 'financial', 'food', 'iOS', 'release']\n",
    "\n",
    "embedding_clusters = []\n",
    "word_clusters = []\n",
    "\n",
    "for word in keys:\n",
    "    embeddings = []\n",
    "    words = []\n",
    "    for similar_word, _ in model.most_similar(word, topn=10):\n",
    "        words.append(similar_word)\n",
    "        embeddings.append(model[similar_word])\n",
    "    embedding_clusters.append(embeddings)\n",
    "    word_clusters.append(words)"
   ]
  },
  {
   "cell_type": "code",
   "execution_count": 15,
   "id": "1fab3810",
   "metadata": {},
   "outputs": [
    {
     "data": {
      "text/plain": [
       "(14, 10, 2)"
      ]
     },
     "execution_count": 15,
     "metadata": {},
     "output_type": "execute_result"
    }
   ],
   "source": [
    "embedding_clusters = np.array(embedding_clusters)\n",
    "n, m, k = embedding_clusters.shape\n",
    "\n",
    "tsne_model_en_2d = TSNE(\n",
    "    perplexity=10, # The perplexity is related to the number of nearest neighbors \n",
    "                   # that is used in other manifold learning algorithms\n",
    "    n_components=2, # Dimension of the embedded space\n",
    "    init='pca', # PCA initialization cannot be used with precomputed distances and is \n",
    "                # usually more globally stable than random initialization\n",
    "    n_iter=3500, # Maximum number of iterations for the optimization. Should be at least 250\n",
    "    random_state=42\n",
    ")\n",
    "\n",
    "embeddings_en_2d = np.array(\n",
    "    tsne_model_en_2d.fit_transform(embedding_clusters.reshape(n * m, k))).reshape(n, m, 2)\n",
    "\n",
    "embeddings_en_2d.shape"
   ]
  },
  {
   "cell_type": "code",
   "execution_count": 16,
   "id": "5d486ab7",
   "metadata": {},
   "outputs": [
    {
     "data": {
      "text/plain": [
       "(14, 10, 300)"
      ]
     },
     "execution_count": 16,
     "metadata": {},
     "output_type": "execute_result"
    }
   ],
   "source": [
    "embedding_clusters.shape"
   ]
  },
  {
   "cell_type": "code",
   "execution_count": 17,
   "id": "adeade79",
   "metadata": {},
   "outputs": [],
   "source": [
    "def tsne_plot_similar_words(title, labels, embedding_clusters, word_clusters, alpha, filename=None):\n",
    "    \n",
    "    plt.figure(figsize=(16, 9))\n",
    "    colors = cm.rainbow(np.linspace(0, 1, len(labels)))\n",
    "    \n",
    "    for label, embeddings, words, color in zip(labels, embedding_clusters, word_clusters, colors):\n",
    "        x = embeddings[:, 0]\n",
    "        y = embeddings[:, 1]\n",
    "        plt.scatter(x, y, color=color, alpha=alpha, label=label, )\n",
    "        for i, word in enumerate(words):\n",
    "            plt.annotate(word, alpha=0.5, xy=(x[i], y[i]), xytext=(5, 2),\n",
    "                         textcoords='offset points', ha='right', va='bottom', size=8)\n",
    "    plt.legend(loc=4)\n",
    "    plt.title(title)\n",
    "    plt.grid(True)\n",
    "    if filename:\n",
    "        plt.savefig(filename, format='png', dpi=150, bbox_inches='tight')\n",
    "    plt.show()"
   ]
  },
  {
   "cell_type": "code",
   "execution_count": 18,
   "id": "d01b83bf",
   "metadata": {},
   "outputs": [
    {
     "data": {
      "image/png": "[encoded data removed]",
      "text/plain": [
       "<Figure size 1600x900 with 1 Axes>"
      ]
     },
     "metadata": {},
     "output_type": "display_data"
    }
   ],
   "source": [
    "tsne_plot_similar_words('Similar words from Google News', keys, embeddings_en_2d, word_clusters, 0.8)"
   ]
  },
  {
   "cell_type": "code",
   "execution_count": 19,
   "id": "7cb6beb0",
   "metadata": {},
   "outputs": [],
   "source": [
    "del model"
   ]
  },
  {
   "cell_type": "code",
   "execution_count": 20,
   "id": "eda80871",
   "metadata": {},
   "outputs": [],
   "source": [
    "def tok2vec(tokens, source:str, avg:str):\n",
    "    \"\"\"\n",
    "    Given a list of tokens, return their vector representation.\n",
    "    Args:\n",
    "        tokens: List(str) tokenized input\n",
    "        source: embedding algorithm to use with the WordEmbedding object\n",
    "        avg: vectors averaging method - `sum` or `mean` of all vectors\n",
    "    \"\"\"\n",
    "    vects = word_embedding.get_vectors(source=source, words=tokens)\n",
    "\n",
    "    if avg == 'mean':\n",
    "        return np.nanmean(vects, axis=0)\n",
    "    elif avg == 'sum':\n",
    "        return np.nansum(vects, axis=0)\n",
    "    else:\n",
    "        raise ValueError('Select correct averaging method: sum or mean')"
   ]
  },
  {
   "cell_type": "code",
   "execution_count": 21,
   "id": "41d6e70f",
   "metadata": {},
   "outputs": [],
   "source": [
    "word_embedding = WordEmbedding()"
   ]
  },
  {
   "cell_type": "code",
   "execution_count": 32,
   "id": "339221a6",
   "metadata": {},
   "outputs": [
    {
     "data": {
      "text/plain": [
       "0"
      ]
     },
     "execution_count": 32,
     "metadata": {},
     "output_type": "execute_result"
    }
   ],
   "source": [
    "gc.collect()"
   ]
  },
  {
   "cell_type": "code",
   "execution_count": 24,
   "id": "0f7269a4",
   "metadata": {},
   "outputs": [
    {
     "name": "stdout",
     "output_type": "stream",
     "text": [
      "2024-08-15 15:20:47.463859 start: loading word2vec\n",
      "2024-08-15 15:21:01.764510 end: loading word2vec\n"
     ]
    },
    {
     "data": {
      "text/plain": [
       "<__main__.WordEmbedding at 0x774316203b80>"
      ]
     },
     "execution_count": 24,
     "metadata": {},
     "output_type": "execute_result"
    }
   ],
   "source": [
    "source = 'word2vec'\n",
    "\n",
    "word_embedding.load(source=source, file_path=word2vec_file_path)"
   ]
  },
  {
   "cell_type": "code",
   "execution_count": 25,
   "id": "245a5c25",
   "metadata": {},
   "outputs": [],
   "source": [
    "train_idxs = df.sample(frac=0.8, random_state=42).index\n",
    "test_idxs = [idx for idx in df.index if idx not in train_idxs]\n",
    "\n",
    "X_train = df.loc[train_idxs, 'text_normalized'].apply(\n",
    "    word_tokenize).apply(lambda x: tok2vec(x, source, 'mean')).to_numpy()\n",
    "\n",
    "X_test = df.loc[test_idxs, 'text_normalized'].apply(\n",
    "    word_tokenize).apply(lambda x: tok2vec(x, source, 'mean')).to_numpy()\n",
    "\n",
    "X_train = np.stack(X_train, axis=0)\n",
    "X_test = np.stack(X_test, axis=0)\n",
    "\n",
    "y_train = df.loc[train_idxs, 'sentiment']\n",
    "y_test = df.loc[test_idxs, 'sentiment']"
   ]
  },
  {
   "cell_type": "code",
   "execution_count": 26,
   "id": "12f9d181",
   "metadata": {},
   "outputs": [
    {
     "data": {
      "text/html": [
       "<style>#sk-container-id-1 {\n",
       "  /* Definition of color scheme common for light and dark mode */\n",
       "  --sklearn-color-text: black;\n",
       "  --sklearn-color-line: gray;\n",
       "  /* Definition of color scheme for unfitted estimators */\n",
       "  --sklearn-color-unfitted-level-0: #fff5e6;\n",
       "  --sklearn-color-unfitted-level-1: #f6e4d2;\n",
       "  --sklearn-color-unfitted-level-2: #ffe0b3;\n",
       "  --sklearn-color-unfitted-level-3: chocolate;\n",
       "  /* Definition of color scheme for fitted estimators */\n",
       "  --sklearn-color-fitted-level-0: #f0f8ff;\n",
       "  --sklearn-color-fitted-level-1: #d4ebff;\n",
       "  --sklearn-color-fitted-level-2: #b3dbfd;\n",
       "  --sklearn-color-fitted-level-3: cornflowerblue;\n",
       "\n",
       "  /* Specific color for light theme */\n",
       "  --sklearn-color-text-on-default-background: var(--sg-text-color, var(--theme-code-foreground, var(--jp-content-font-color1, black)));\n",
       "  --sklearn-color-background: var(--sg-background-color, var(--theme-background, var(--jp-layout-color0, white)));\n",
       "  --sklearn-color-border-box: var(--sg-text-color, var(--theme-code-foreground, var(--jp-content-font-color1, black)));\n",
       "  --sklearn-color-icon: #696969;\n",
       "\n",
       "  @media (prefers-color-scheme: dark) {\n",
       "    /* Redefinition of color scheme for dark theme */\n",
       "    --sklearn-color-text-on-default-background: var(--sg-text-color, var(--theme-code-foreground, var(--jp-content-font-color1, white)));\n",
       "    --sklearn-color-background: var(--sg-background-color, var(--theme-background, var(--jp-layout-color0, #111)));\n",
       "    --sklearn-color-border-box: var(--sg-text-color, var(--theme-code-foreground, var(--jp-content-font-color1, white)));\n",
       "    --sklearn-color-icon: #878787;\n",
       "  }\n",
       "}\n",
       "\n",
       "#sk-container-id-1 {\n",
       "  color: var(--sklearn-color-text);\n",
       "}\n",
       "\n",
       "#sk-container-id-1 pre {\n",
       "  padding: 0;\n",
       "}\n",
       "\n",
       "#sk-container-id-1 input.sk-hidden--visually {\n",
       "  border: 0;\n",
       "  clip: rect(1px 1px 1px 1px);\n",
       "  clip: rect(1px, 1px, 1px, 1px);\n",
       "  height: 1px;\n",
       "  margin: -1px;\n",
       "  overflow: hidden;\n",
       "  padding: 0;\n",
       "  position: absolute;\n",
       "  width: 1px;\n",
       "}\n",
       "\n",
       "#sk-container-id-1 div.sk-dashed-wrapped {\n",
       "  border: 1px dashed var(--sklearn-color-line);\n",
       "  margin: 0 0.4em 0.5em 0.4em;\n",
       "  box-sizing: border-box;\n",
       "  padding-bottom: 0.4em;\n",
       "  background-color: var(--sklearn-color-background);\n",
       "}\n",
       "\n",
       "#sk-container-id-1 div.sk-container {\n",
       "  /* jupyter's `normalize.less` sets `[hidden] { display: none; }`\n",
       "     but bootstrap.min.css set `[hidden] { display: none !important; }`\n",
       "     so we also need the `!important` here to be able to override the\n",
       "     default hidden behavior on the sphinx rendered scikit-learn.org.\n",
       "     See: https://github.com/scikit-learn/scikit-learn/issues/21755 */\n",
       "  display: inline-block !important;\n",
       "  position: relative;\n",
       "}\n",
       "\n",
       "#sk-container-id-1 div.sk-text-repr-fallback {\n",
       "  display: none;\n",
       "}\n",
       "\n",
       "div.sk-parallel-item,\n",
       "div.sk-serial,\n",
       "div.sk-item {\n",
       "  /* draw centered vertical line to link estimators */\n",
       "  background-image: linear-gradient(var(--sklearn-color-text-on-default-background), var(--sklearn-color-text-on-default-background));\n",
       "  background-size: 2px 100%;\n",
       "  background-repeat: no-repeat;\n",
       "  background-position: center center;\n",
       "}\n",
       "\n",
       "/* Parallel-specific style estimator block */\n",
       "\n",
       "#sk-container-id-1 div.sk-parallel-item::after {\n",
       "  content: \"\";\n",
       "  width: 100%;\n",
       "  border-bottom: 2px solid var(--sklearn-color-text-on-default-background);\n",
       "  flex-grow: 1;\n",
       "}\n",
       "\n",
       "#sk-container-id-1 div.sk-parallel {\n",
       "  display: flex;\n",
       "  align-items: stretch;\n",
       "  justify-content: center;\n",
       "  background-color: var(--sklearn-color-background);\n",
       "  position: relative;\n",
       "}\n",
       "\n",
       "#sk-container-id-1 div.sk-parallel-item {\n",
       "  display: flex;\n",
       "  flex-direction: column;\n",
       "}\n",
       "\n",
       "#sk-container-id-1 div.sk-parallel-item:first-child::after {\n",
       "  align-self: flex-end;\n",
       "  width: 50%;\n",
       "}\n",
       "\n",
       "#sk-container-id-1 div.sk-parallel-item:last-child::after {\n",
       "  align-self: flex-start;\n",
       "  width: 50%;\n",
       "}\n",
       "\n",
       "#sk-container-id-1 div.sk-parallel-item:only-child::after {\n",
       "  width: 0;\n",
       "}\n",
       "\n",
       "/* Serial-specific style estimator block */\n",
       "\n",
       "#sk-container-id-1 div.sk-serial {\n",
       "  display: flex;\n",
       "  flex-direction: column;\n",
       "  align-items: center;\n",
       "  background-color: var(--sklearn-color-background);\n",
       "  padding-right: 1em;\n",
       "  padding-left: 1em;\n",
       "}\n",
       "\n",
       "\n",
       "/* Toggleable style: style used for estimator/Pipeline/ColumnTransformer box that is\n",
       "clickable and can be expanded/collapsed.\n",
       "- Pipeline and ColumnTransformer use this feature and define the default style\n",
       "- Estimators will overwrite some part of the style using the `sk-estimator` class\n",
       "*/\n",
       "\n",
       "/* Pipeline and ColumnTransformer style (default) */\n",
       "\n",
       "#sk-container-id-1 div.sk-toggleable {\n",
       "  /* Default theme specific background. It is overwritten whether we have a\n",
       "  specific estimator or a Pipeline/ColumnTransformer */\n",
       "  background-color: var(--sklearn-color-background);\n",
       "}\n",
       "\n",
       "/* Toggleable label */\n",
       "#sk-container-id-1 label.sk-toggleable__label {\n",
       "  cursor: pointer;\n",
       "  display: block;\n",
       "  width: 100%;\n",
       "  margin-bottom: 0;\n",
       "  padding: 0.5em;\n",
       "  box-sizing: border-box;\n",
       "  text-align: center;\n",
       "}\n",
       "\n",
       "#sk-container-id-1 label.sk-toggleable__label-arrow:before {\n",
       "  /* Arrow on the left of the label */\n",
       "  content: \"▸\";\n",
       "  float: left;\n",
       "  margin-right: 0.25em;\n",
       "  color: var(--sklearn-color-icon);\n",
       "}\n",
       "\n",
       "#sk-container-id-1 label.sk-toggleable__label-arrow:hover:before {\n",
       "  color: var(--sklearn-color-text);\n",
       "}\n",
       "\n",
       "/* Toggleable content - dropdown */\n",
       "\n",
       "#sk-container-id-1 div.sk-toggleable__content {\n",
       "  max-height: 0;\n",
       "  max-width: 0;\n",
       "  overflow: hidden;\n",
       "  text-align: left;\n",
       "  /* unfitted */\n",
       "  background-color: var(--sklearn-color-unfitted-level-0);\n",
       "}\n",
       "\n",
       "#sk-container-id-1 div.sk-toggleable__content.fitted {\n",
       "  /* fitted */\n",
       "  background-color: var(--sklearn-color-fitted-level-0);\n",
       "}\n",
       "\n",
       "#sk-container-id-1 div.sk-toggleable__content pre {\n",
       "  margin: 0.2em;\n",
       "  border-radius: 0.25em;\n",
       "  color: var(--sklearn-color-text);\n",
       "  /* unfitted */\n",
       "  background-color: var(--sklearn-color-unfitted-level-0);\n",
       "}\n",
       "\n",
       "#sk-container-id-1 div.sk-toggleable__content.fitted pre {\n",
       "  /* unfitted */\n",
       "  background-color: var(--sklearn-color-fitted-level-0);\n",
       "}\n",
       "\n",
       "#sk-container-id-1 input.sk-toggleable__control:checked~div.sk-toggleable__content {\n",
       "  /* Expand drop-down */\n",
       "  max-height: 200px;\n",
       "  max-width: 100%;\n",
       "  overflow: auto;\n",
       "}\n",
       "\n",
       "#sk-container-id-1 input.sk-toggleable__control:checked~label.sk-toggleable__label-arrow:before {\n",
       "  content: \"▾\";\n",
       "}\n",
       "\n",
       "/* Pipeline/ColumnTransformer-specific style */\n",
       "\n",
       "#sk-container-id-1 div.sk-label input.sk-toggleable__control:checked~label.sk-toggleable__label {\n",
       "  color: var(--sklearn-color-text);\n",
       "  background-color: var(--sklearn-color-unfitted-level-2);\n",
       "}\n",
       "\n",
       "#sk-container-id-1 div.sk-label.fitted input.sk-toggleable__control:checked~label.sk-toggleable__label {\n",
       "  background-color: var(--sklearn-color-fitted-level-2);\n",
       "}\n",
       "\n",
       "/* Estimator-specific style */\n",
       "\n",
       "/* Colorize estimator box */\n",
       "#sk-container-id-1 div.sk-estimator input.sk-toggleable__control:checked~label.sk-toggleable__label {\n",
       "  /* unfitted */\n",
       "  background-color: var(--sklearn-color-unfitted-level-2);\n",
       "}\n",
       "\n",
       "#sk-container-id-1 div.sk-estimator.fitted input.sk-toggleable__control:checked~label.sk-toggleable__label {\n",
       "  /* fitted */\n",
       "  background-color: var(--sklearn-color-fitted-level-2);\n",
       "}\n",
       "\n",
       "#sk-container-id-1 div.sk-label label.sk-toggleable__label,\n",
       "#sk-container-id-1 div.sk-label label {\n",
       "  /* The background is the default theme color */\n",
       "  color: var(--sklearn-color-text-on-default-background);\n",
       "}\n",
       "\n",
       "/* On hover, darken the color of the background */\n",
       "#sk-container-id-1 div.sk-label:hover label.sk-toggleable__label {\n",
       "  color: var(--sklearn-color-text);\n",
       "  background-color: var(--sklearn-color-unfitted-level-2);\n",
       "}\n",
       "\n",
       "/* Label box, darken color on hover, fitted */\n",
       "#sk-container-id-1 div.sk-label.fitted:hover label.sk-toggleable__label.fitted {\n",
       "  color: var(--sklearn-color-text);\n",
       "  background-color: var(--sklearn-color-fitted-level-2);\n",
       "}\n",
       "\n",
       "/* Estimator label */\n",
       "\n",
       "#sk-container-id-1 div.sk-label label {\n",
       "  font-family: monospace;\n",
       "  font-weight: bold;\n",
       "  display: inline-block;\n",
       "  line-height: 1.2em;\n",
       "}\n",
       "\n",
       "#sk-container-id-1 div.sk-label-container {\n",
       "  text-align: center;\n",
       "}\n",
       "\n",
       "/* Estimator-specific */\n",
       "#sk-container-id-1 div.sk-estimator {\n",
       "  font-family: monospace;\n",
       "  border: 1px dotted var(--sklearn-color-border-box);\n",
       "  border-radius: 0.25em;\n",
       "  box-sizing: border-box;\n",
       "  margin-bottom: 0.5em;\n",
       "  /* unfitted */\n",
       "  background-color: var(--sklearn-color-unfitted-level-0);\n",
       "}\n",
       "\n",
       "#sk-container-id-1 div.sk-estimator.fitted {\n",
       "  /* fitted */\n",
       "  background-color: var(--sklearn-color-fitted-level-0);\n",
       "}\n",
       "\n",
       "/* on hover */\n",
       "#sk-container-id-1 div.sk-estimator:hover {\n",
       "  /* unfitted */\n",
       "  background-color: var(--sklearn-color-unfitted-level-2);\n",
       "}\n",
       "\n",
       "#sk-container-id-1 div.sk-estimator.fitted:hover {\n",
       "  /* fitted */\n",
       "  background-color: var(--sklearn-color-fitted-level-2);\n",
       "}\n",
       "\n",
       "/* Specification for estimator info (e.g. \"i\" and \"?\") */\n",
       "\n",
       "/* Common style for \"i\" and \"?\" */\n",
       "\n",
       ".sk-estimator-doc-link,\n",
       "a:link.sk-estimator-doc-link,\n",
       "a:visited.sk-estimator-doc-link {\n",
       "  float: right;\n",
       "  font-size: smaller;\n",
       "  line-height: 1em;\n",
       "  font-family: monospace;\n",
       "  background-color: var(--sklearn-color-background);\n",
       "  border-radius: 1em;\n",
       "  height: 1em;\n",
       "  width: 1em;\n",
       "  text-decoration: none !important;\n",
       "  margin-left: 1ex;\n",
       "  /* unfitted */\n",
       "  border: var(--sklearn-color-unfitted-level-1) 1pt solid;\n",
       "  color: var(--sklearn-color-unfitted-level-1);\n",
       "}\n",
       "\n",
       ".sk-estimator-doc-link.fitted,\n",
       "a:link.sk-estimator-doc-link.fitted,\n",
       "a:visited.sk-estimator-doc-link.fitted {\n",
       "  /* fitted */\n",
       "  border: var(--sklearn-color-fitted-level-1) 1pt solid;\n",
       "  color: var(--sklearn-color-fitted-level-1);\n",
       "}\n",
       "\n",
       "/* On hover */\n",
       "div.sk-estimator:hover .sk-estimator-doc-link:hover,\n",
       ".sk-estimator-doc-link:hover,\n",
       "div.sk-label-container:hover .sk-estimator-doc-link:hover,\n",
       ".sk-estimator-doc-link:hover {\n",
       "  /* unfitted */\n",
       "  background-color: var(--sklearn-color-unfitted-level-3);\n",
       "  color: var(--sklearn-color-background);\n",
       "  text-decoration: none;\n",
       "}\n",
       "\n",
       "div.sk-estimator.fitted:hover .sk-estimator-doc-link.fitted:hover,\n",
       ".sk-estimator-doc-link.fitted:hover,\n",
       "div.sk-label-container:hover .sk-estimator-doc-link.fitted:hover,\n",
       ".sk-estimator-doc-link.fitted:hover {\n",
       "  /* fitted */\n",
       "  background-color: var(--sklearn-color-fitted-level-3);\n",
       "  color: var(--sklearn-color-background);\n",
       "  text-decoration: none;\n",
       "}\n",
       "\n",
       "/* Span, style for the box shown on hovering the info icon */\n",
       ".sk-estimator-doc-link span {\n",
       "  display: none;\n",
       "  z-index: 9999;\n",
       "  position: relative;\n",
       "  font-weight: normal;\n",
       "  right: .2ex;\n",
       "  padding: .5ex;\n",
       "  margin: .5ex;\n",
       "  width: min-content;\n",
       "  min-width: 20ex;\n",
       "  max-width: 50ex;\n",
       "  color: var(--sklearn-color-text);\n",
       "  box-shadow: 2pt 2pt 4pt #999;\n",
       "  /* unfitted */\n",
       "  background: var(--sklearn-color-unfitted-level-0);\n",
       "  border: .5pt solid var(--sklearn-color-unfitted-level-3);\n",
       "}\n",
       "\n",
       ".sk-estimator-doc-link.fitted span {\n",
       "  /* fitted */\n",
       "  background: var(--sklearn-color-fitted-level-0);\n",
       "  border: var(--sklearn-color-fitted-level-3);\n",
       "}\n",
       "\n",
       ".sk-estimator-doc-link:hover span {\n",
       "  display: block;\n",
       "}\n",
       "\n",
       "/* \"?\"-specific style due to the `<a>` HTML tag */\n",
       "\n",
       "#sk-container-id-1 a.estimator_doc_link {\n",
       "  float: right;\n",
       "  font-size: 1rem;\n",
       "  line-height: 1em;\n",
       "  font-family: monospace;\n",
       "  background-color: var(--sklearn-color-background);\n",
       "  border-radius: 1rem;\n",
       "  height: 1rem;\n",
       "  width: 1rem;\n",
       "  text-decoration: none;\n",
       "  /* unfitted */\n",
       "  color: var(--sklearn-color-unfitted-level-1);\n",
       "  border: var(--sklearn-color-unfitted-level-1) 1pt solid;\n",
       "}\n",
       "\n",
       "#sk-container-id-1 a.estimator_doc_link.fitted {\n",
       "  /* fitted */\n",
       "  border: var(--sklearn-color-fitted-level-1) 1pt solid;\n",
       "  color: var(--sklearn-color-fitted-level-1);\n",
       "}\n",
       "\n",
       "/* On hover */\n",
       "#sk-container-id-1 a.estimator_doc_link:hover {\n",
       "  /* unfitted */\n",
       "  background-color: var(--sklearn-color-unfitted-level-3);\n",
       "  color: var(--sklearn-color-background);\n",
       "  text-decoration: none;\n",
       "}\n",
       "\n",
       "#sk-container-id-1 a.estimator_doc_link.fitted:hover {\n",
       "  /* fitted */\n",
       "  background-color: var(--sklearn-color-fitted-level-3);\n",
       "}\n",
       "</style><div id=\"sk-container-id-1\" class=\"sk-top-container\"><div class=\"sk-text-repr-fallback\"><pre>LogisticRegression(random_state=42)</pre><b>In a Jupyter environment, please rerun this cell to show the HTML representation or trust the notebook. <br />On GitHub, the HTML representation is unable to render, please try loading this page with nbviewer.org.</b></div><div class=\"sk-container\" hidden><div class=\"sk-item\"><div class=\"sk-estimator fitted sk-toggleable\"><input class=\"sk-toggleable__control sk-hidden--visually\" id=\"sk-estimator-id-1\" type=\"checkbox\" checked><label for=\"sk-estimator-id-1\" class=\"sk-toggleable__label fitted sk-toggleable__label-arrow fitted\">&nbsp;&nbsp;LogisticRegression<a class=\"sk-estimator-doc-link fitted\" rel=\"noreferrer\" target=\"_blank\" href=\"https://scikit-learn.org/1.4/modules/generated/sklearn.linear_model.LogisticRegression.html\">?<span>Documentation for LogisticRegression</span></a><span class=\"sk-estimator-doc-link fitted\">i<span>Fitted</span></span></label><div class=\"sk-toggleable__content fitted\"><pre>LogisticRegression(random_state=42)</pre></div> </div></div></div></div>"
      ],
      "text/plain": [
       "LogisticRegression(random_state=42)"
      ]
     },
     "execution_count": 26,
     "metadata": {},
     "output_type": "execute_result"
    }
   ],
   "source": [
    "model = LogisticRegression(random_state=42)\n",
    "model.fit(X_train, y_train)"
   ]
  },
  {
   "cell_type": "code",
   "execution_count": 27,
   "id": "63292f00",
   "metadata": {},
   "outputs": [
    {
     "name": "stdout",
     "output_type": "stream",
     "text": [
      "AUC:  0.8071177944862156\n"
     ]
    }
   ],
   "source": [
    "predictions = model.predict(X_test)\n",
    "\n",
    "print('AUC: ', roc_auc_score(y_test, predictions))"
   ]
  },
  {
   "cell_type": "code",
   "execution_count": 28,
   "id": "962503bc",
   "metadata": {},
   "outputs": [],
   "source": [
    "text_tokenized = df['text_normalized'].apply(word_tokenize).to_list()"
   ]
  },
  {
   "cell_type": "code",
   "execution_count": 29,
   "id": "4c624c34",
   "metadata": {},
   "outputs": [],
   "source": [
    "def tagged_document(list_of_list_of_words):\n",
    "    for i, list_of_words in enumerate(list_of_list_of_words):\n",
    "        yield gensim.models.doc2vec.TaggedDocument(list_of_words, [i])"
   ]
  },
  {
   "cell_type": "code",
   "execution_count": 30,
   "id": "fa0100e3",
   "metadata": {},
   "outputs": [],
   "source": [
    "text_tokenized_tagget = list(tagged_document(text_tokenized))"
   ]
  },
  {
   "cell_type": "code",
   "execution_count": 31,
   "id": "794dc0d5",
   "metadata": {},
   "outputs": [
    {
     "data": {
      "text/plain": [
       "TaggedDocument(words=['try', 'differant', 'brand', 'juice', 'imply', 'get', 'relief', 'arthritis', 'pain', 'save', 'money', 'buy', 'tylenol', 'brand', 'good', 'bland', 'taste', 'nothing', 'pain'], tags=[3])"
      ]
     },
     "execution_count": 31,
     "metadata": {},
     "output_type": "execute_result"
    }
   ],
   "source": [
    "text_tokenized_tagget[3]"
   ]
  },
  {
   "cell_type": "code",
   "execution_count": 33,
   "id": "c7e872e5",
   "metadata": {},
   "outputs": [],
   "source": [
    "model_Doc2Vec = gensim.models.doc2vec.Doc2Vec(vector_size=300, min_count=5, epochs=200)\n",
    "\n",
    "model_Doc2Vec.build_vocab(text_tokenized_tagget)\n",
    "\n",
    "model_Doc2Vec.train(text_tokenized_tagget, total_examples=model_Doc2Vec.corpus_count, epochs=model_Doc2Vec.epochs)"
   ]
  },
  {
   "cell_type": "code",
   "execution_count": 34,
   "id": "b0d48c1a",
   "metadata": {
    "scrolled": true
   },
   "outputs": [
    {
     "data": {
      "text/plain": [
       "(300,)"
      ]
     },
     "execution_count": 34,
     "metadata": {},
     "output_type": "execute_result"
    }
   ],
   "source": [
    "model_Doc2Vec.infer_vector(text_tokenized[0]).shape"
   ]
  },
  {
   "cell_type": "code",
   "execution_count": 35,
   "id": "c6f63fa3",
   "metadata": {},
   "outputs": [],
   "source": [
    "X = [model_Doc2Vec.infer_vector(x) for x in text_tokenized]"
   ]
  },
  {
   "cell_type": "code",
   "execution_count": 36,
   "id": "5e797122",
   "metadata": {},
   "outputs": [],
   "source": [
    "X_train = [X[idx] for idx in train_idxs]\n",
    "X_test = [X[idx] for idx in test_idxs]\n",
    "\n",
    "X_train = np.vstack(X_train)\n",
    "X_test = np.vstack(X_test)"
   ]
  },
  {
   "cell_type": "code",
   "execution_count": 37,
   "id": "028330f4",
   "metadata": {},
   "outputs": [
    {
     "name": "stdout",
     "output_type": "stream",
     "text": [
      "AUC:  0.8170426065162907\n"
     ]
    }
   ],
   "source": [
    "model = LogisticRegression(random_state=42)\n",
    "model.fit(X_train, y_train)\n",
    "predictions = model.predict(X_test)\n",
    "\n",
    "print('AUC: ', roc_auc_score(y_test, predictions))"
   ]
  }
 ],
 "metadata": {
  "kernelspec": {
   "display_name": ".venv",
   "language": "python",
   "name": "python3"
  },
  "language_info": {
   "codemirror_mode": {
    "name": "ipython",
    "version": 3
   },
   "file_extension": ".py",
   "mimetype": "text/x-python",
   "name": "python",
   "nbconvert_exporter": "python",
   "pygments_lexer": "ipython3",
   "version": "3.12.3"
  },
  "toc": {
   "base_numbering": 1,
   "nav_menu": {},
   "number_sections": true,
   "sideBar": true,
   "skip_h1_title": false,
   "title_cell": "Table of Contents",
   "title_sidebar": "Contents",
   "toc_cell": false,
   "toc_position": {},
   "toc_section_display": true,
   "toc_window_display": false
  }
 },
 "nbformat": 4,
 "nbformat_minor": 5
}
