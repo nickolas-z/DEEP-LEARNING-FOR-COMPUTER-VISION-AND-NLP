{
 "cells": [
  {
   "cell_type": "code",
   "execution_count": 1,
   "id": "e676858e",
   "metadata": {},
   "outputs": [],
   "source": [
    "import os\n",
    "import gc\n",
    "import math\n",
    "import random\n",
    "from collections import defaultdict\n",
    "\n",
    "import pandas as pd\n",
    "import numpy as np\n",
    "\n",
    "import matplotlib.pyplot as plt\n",
    "\n",
    "import torch\n",
    "from torch.utils.data import Dataset, DataLoader\n",
    "import torch.nn as nn\n",
    "from torch.nn.utils.rnn import pack_padded_sequence, pad_packed_sequence\n",
    "\n",
    "from torch.optim import Adam\n",
    "from tqdm import tqdm_notebook as tqdm\n",
    "\n",
    "from sklearn.metrics import classification_report, f1_score\n",
    "\n",
    "import warnings\n",
    "warnings.filterwarnings('ignore')"
   ]
  },
  {
   "cell_type": "code",
   "execution_count": 2,
   "id": "414003ae",
   "metadata": {},
   "outputs": [],
   "source": [
    "data_path = '../data/Module_6_Lecture_1_CoNLL2003/'\n",
    "\n",
    "device = torch.device(\"cuda\" if torch.cuda.is_available() else \"cpu\")"
   ]
  },
  {
   "cell_type": "code",
   "execution_count": 3,
   "id": "05b7692f",
   "metadata": {},
   "outputs": [],
   "source": [
    "def load_sentences(filepath):\n",
    "    final = []\n",
    "    sentences = []\n",
    "    with open(filepath, 'r') as f:\n",
    "        for line in f.readlines():\n",
    "            if (line == ('-DOCSTART- -X- -X- O\\n') or line == '\\n'):\n",
    "                if len(sentences) > 0:\n",
    "                    final.append(sentences)\n",
    "                    sentences = []\n",
    "            else:\n",
    "                l = line.split(' ')\n",
    "                sentences.append((l[0], l[3].strip('\\n')))\n",
    "    return final"
   ]
  },
  {
   "cell_type": "code",
   "execution_count": 4,
   "id": "9c997bcc",
   "metadata": {},
   "outputs": [],
   "source": [
    "train_sents = load_sentences(data_path + 'train.txt')\n",
    "test_sents = load_sentences(data_path + 'test.txt')\n",
    "val_sents = load_sentences(data_path + 'valid.txt')"
   ]
  },
  {
   "cell_type": "code",
   "execution_count": 5,
   "id": "c661c043",
   "metadata": {},
   "outputs": [
    {
     "data": {
      "text/plain": [
       "[[('EU', 'B-ORG'),\n",
       "  ('rejects', 'O'),\n",
       "  ('German', 'B-MISC'),\n",
       "  ('call', 'O'),\n",
       "  ('to', 'O'),\n",
       "  ('boycott', 'O'),\n",
       "  ('British', 'B-MISC'),\n",
       "  ('lamb', 'O'),\n",
       "  ('.', 'O')],\n",
       " [('Peter', 'B-PER'), ('Blackburn', 'I-PER')],\n",
       " [('BRUSSELS', 'B-LOC'), ('1996-08-22', 'O')]]"
      ]
     },
     "execution_count": 5,
     "metadata": {},
     "output_type": "execute_result"
    }
   ],
   "source": [
    "train_sents[:3]"
   ]
  },
  {
   "cell_type": "code",
   "execution_count": 6,
   "id": "90f2a186",
   "metadata": {},
   "outputs": [],
   "source": [
    "ner_labels = ['O', 'B-PER', 'I-PER', 'B-ORG', 'I-ORG', 'B-LOC', 'I-LOC', 'B-MISC', 'I-MISC']\n",
    "id2label = {str(i): label for i, label in enumerate(ner_labels)}\n",
    "label2id = {value: int(key) for key, value in id2label.items()}"
   ]
  },
  {
   "cell_type": "code",
   "execution_count": 7,
   "id": "5e7e6493",
   "metadata": {},
   "outputs": [],
   "source": [
    "def get_df(samples):\n",
    "    df,label = [], []\n",
    "    for lines in samples:\n",
    "        cur_line, cur_label = list(zip(*lines))\n",
    "        df.append(list(cur_line))\n",
    "        label.append([label2id[i] for i in cur_label])\n",
    "    return {'text':df, 'label':label}"
   ]
  },
  {
   "cell_type": "code",
   "execution_count": 8,
   "id": "ffba8594",
   "metadata": {},
   "outputs": [],
   "source": [
    "train_df = get_df(train_sents)\n",
    "test_df = get_df(test_sents)\n",
    "val_df = get_df(val_sents)"
   ]
  },
  {
   "cell_type": "code",
   "execution_count": 9,
   "id": "8230216a",
   "metadata": {},
   "outputs": [],
   "source": [
    "word_dict = defaultdict(int)\n",
    "\n",
    "for line in train_df['text']:\n",
    "    for word in line:\n",
    "        word_dict[word] += 1\n",
    "\n",
    "lower_freq_word = []\n",
    "for k,v in word_dict.items():\n",
    "    if v < 2:\n",
    "        lower_freq_word.append(k)\n",
    "\n",
    "for word in lower_freq_word:\n",
    "    del word_dict[word]\n",
    "    \n",
    "word_dict['<UNK>'] = -1\n",
    "word_dict['<PAD>'] = -2\n",
    "\n",
    "word2id = {}\n",
    "\n",
    "for idx, word in enumerate(word_dict.keys()):\n",
    "    word2id[word] = idx"
   ]
  },
  {
   "cell_type": "code",
   "execution_count": 10,
   "id": "d02f2dc8",
   "metadata": {},
   "outputs": [],
   "source": [
    "def prepare_sequence(seq, to_ix):\n",
    "    idxs = []\n",
    "    for w in seq:\n",
    "        if w in to_ix.keys():\n",
    "            idxs.append(to_ix[w])\n",
    "        else:\n",
    "            idxs.append(to_ix['<UNK>'])\n",
    "    return idxs"
   ]
  },
  {
   "cell_type": "code",
   "execution_count": 11,
   "id": "efd1d0de",
   "metadata": {
    "code_folding": []
   },
   "outputs": [],
   "source": [
    "class CoNLLDataset(Dataset):\n",
    "    def __init__(self, df):\n",
    "        self.texts = df['text']\n",
    "        self.labels = df['label']\n",
    "\n",
    "    def __len__(self):\n",
    "        return len(self.texts)\n",
    "\n",
    "    def __getitem__(self, item):\n",
    "        inputs = prepare_sequence(self.texts[item], word2id)\n",
    "        label = self.labels[item]\n",
    "        return {\n",
    "            'input_ids': inputs,\n",
    "            'labels': label\n",
    "        }\n",
    "\n",
    "class Collate:\n",
    "    def __init__(self, train):\n",
    "        self.train = train\n",
    "\n",
    "    def __call__(self, batch):\n",
    "        output = dict()\n",
    "        output[\"input_ids\"] = [sample[\"input_ids\"] for sample in batch]\n",
    "        if self.train:\n",
    "            output[\"labels\"] = [sample[\"labels\"] for sample in batch]\n",
    "\n",
    "        # calculate max token length of this batch\n",
    "        batch_max = max([len(ids) for ids in output[\"input_ids\"]])\n",
    "\n",
    "        # add padding\n",
    "\n",
    "        output[\"input_ids\"] = [s + (batch_max - len(s)) * [word2id['<PAD>']] for s in output[\"input_ids\"]]\n",
    "        if self.train:\n",
    "            output['labels'] = [s + (batch_max - len(s)) * [-100] for s in output[\"labels\"]]\n",
    "\n",
    "        # convert to tensors\n",
    "        output[\"input_ids\"] = torch.tensor(output[\"input_ids\"], dtype=torch.long)\n",
    "        if self.train:\n",
    "            output[\"labels\"] = torch.tensor(output[\"labels\"], dtype=torch.long)\n",
    "\n",
    "        return output\n",
    "    \n",
    "collate_fn = Collate(True)  "
   ]
  },
  {
   "cell_type": "code",
   "execution_count": 12,
   "id": "8ec9835c",
   "metadata": {
    "code_folding": []
   },
   "outputs": [],
   "source": [
    "class BiLSTMTagger(nn.Module):\n",
    "\n",
    "    def __init__(self, embedding_dim, hidden_dim, vocab_size, output_size, embeddings=None):\n",
    "        super(BiLSTMTagger, self).__init__()\n",
    "        \n",
    "        # 1. Embedding Layer\n",
    "        if embeddings is None:\n",
    "            self.embeddings = nn.Embedding(vocab_size, embedding_dim)\n",
    "        else:\n",
    "            self.embeddings = nn.Embedding.from_pretrained(embeddings)#, freeze=True)\n",
    "        \n",
    "        # 2. LSTM Layer\n",
    "        self.lstm = nn.LSTM(embedding_dim, hidden_dim, bidirectional=True, num_layers=3, batch_first=True)\n",
    "\n",
    "        # 3. Dense Layer\n",
    "        self.fc = nn.Linear(2*hidden_dim, output_size)\n",
    "        \n",
    "    def forward(self, batch_text):\n",
    "\n",
    "        embeddings = self.embeddings(batch_text)\n",
    "        \n",
    "        lstm_output, _ = self.lstm(embeddings) \n",
    "\n",
    "        logits = self.fc(lstm_output)\n",
    "        return logits"
   ]
  },
  {
   "cell_type": "code",
   "execution_count": 13,
   "id": "24351373",
   "metadata": {
    "code_folding": []
   },
   "outputs": [],
   "source": [
    "def remove_predictions_for_masked_items(predicted_labels, correct_labels): \n",
    "\n",
    "    predicted_labels_without_mask = []\n",
    "    correct_labels_without_mask = []\n",
    "        \n",
    "    for p, c in zip(predicted_labels, correct_labels):\n",
    "        if c > 0:\n",
    "            predicted_labels_without_mask.append(p)\n",
    "            correct_labels_without_mask.append(c)\n",
    "            \n",
    "    return predicted_labels_without_mask, correct_labels_without_mask\n",
    "\n",
    "\n",
    "def train(model, train_loader, val_loader, batch_size, max_epochs, num_batches, patience, output_path):\n",
    "    criterion = nn.CrossEntropyLoss(ignore_index=-100)  # we mask the <pad> labels\n",
    "    optimizer = Adam(model.parameters())\n",
    "\n",
    "    train_f_score_history = []\n",
    "    dev_f_score_history = []\n",
    "    no_improvement = 0\n",
    "    for epoch in range(max_epochs):\n",
    "\n",
    "        total_loss = 0\n",
    "        predictions, correct = [], []\n",
    "        model.train()\n",
    "        for batch in tqdm(train_loader, total=num_batches, desc=f\"Epoch {epoch}\"):\n",
    "            \n",
    "            cur_batch_size, text_length = batch['input_ids'].shape\n",
    "            \n",
    "            pred = model(batch['input_ids'].to(device)).view(cur_batch_size*text_length, NUM_CLASSES)\n",
    "            gold = batch['labels'].to(device).view(cur_batch_size*text_length)\n",
    "            \n",
    "            loss = criterion(pred, gold)\n",
    "            \n",
    "            total_loss += loss.item()\n",
    "            \n",
    "            optimizer.zero_grad()\n",
    "            loss.backward()\n",
    "            optimizer.step()\n",
    "\n",
    "            _, pred_indices = torch.max(pred, 1)\n",
    "            \n",
    "            predicted_labels = list(pred_indices.cpu().numpy())\n",
    "            correct_labels = list(batch['labels'].view(cur_batch_size*text_length).numpy())\n",
    "            \n",
    "            predicted_labels, correct_labels = remove_predictions_for_masked_items(predicted_labels, \n",
    "                                                                                   correct_labels)\n",
    "            \n",
    "            predictions += predicted_labels\n",
    "            correct += correct_labels\n",
    "\n",
    "        train_score = f1_score(correct, predictions, average=\"macro\")\n",
    "        train_f_score_history.append(train_score)\n",
    "            \n",
    "        print(\"Total training loss:\", total_loss)\n",
    "        print(\"Training Macro F1:\", train_score)\n",
    "        \n",
    "        total_loss = 0\n",
    "        predictions, correct = [], []\n",
    "        \n",
    "        model.eval()\n",
    "        with torch.no_grad():\n",
    "            for batch in val_loader:\n",
    "\n",
    "                cur_batch_size, text_length = batch['input_ids'].shape\n",
    "                \n",
    "                pred = model(batch['input_ids'].to(device)).view(cur_batch_size*text_length, NUM_CLASSES)\n",
    "                gold = batch['labels'].to(device).view(cur_batch_size*text_length)\n",
    "                \n",
    "                loss = criterion(pred, gold)\n",
    "                total_loss += loss.item()\n",
    "\n",
    "                _, pred_indices = torch.max(pred, 1)\n",
    "                predicted_labels = list(pred_indices.cpu().numpy())\n",
    "                correct_labels = list(batch['labels'].view(cur_batch_size*text_length).numpy())\n",
    "\n",
    "                predicted_labels, correct_labels = remove_predictions_for_masked_items(predicted_labels, \n",
    "                                                                                       correct_labels)\n",
    "\n",
    "                predictions += predicted_labels\n",
    "                correct += correct_labels\n",
    "\n",
    "        dev_score = f1_score(correct, predictions, average=\"macro\")\n",
    "            \n",
    "        print(\"Total validation loss:\", total_loss)\n",
    "        print(\"Validation Macro F1:\", dev_score)\n",
    "        \n",
    "        dev_f = dev_score\n",
    "        if len(dev_f_score_history) > patience and dev_f < max(dev_f_score_history):\n",
    "            no_improvement += 1\n",
    "\n",
    "        elif len(dev_f_score_history) == 0 or dev_f > max(dev_f_score_history):\n",
    "            print(\"Saving model.\")\n",
    "            torch.save(model, output_path)\n",
    "            no_improvement = 0\n",
    "            \n",
    "        if no_improvement > patience:\n",
    "            print(\"Validation F-score does not improve anymore. Stop training.\")\n",
    "            dev_f_score_history.append(dev_f)\n",
    "            break\n",
    "            \n",
    "        dev_f_score_history.append(dev_f)\n",
    "        \n",
    "    return train_f_score_history, dev_f_score_history"
   ]
  },
  {
   "cell_type": "code",
   "execution_count": 14,
   "id": "eee106f2",
   "metadata": {
    "code_folding": []
   },
   "outputs": [],
   "source": [
    "def test(model, test_iter, batch_size, labels, target_names): \n",
    "    total_loss = 0\n",
    "    predictions, correct = [], []\n",
    "    \n",
    "    model.eval()\n",
    "    with torch.no_grad():    \n",
    "    \n",
    "        for batch in test_iter:\n",
    "\n",
    "            cur_batch_size, text_length = batch['input_ids'].shape\n",
    "\n",
    "            pred = model(batch['input_ids'].to(device)).view(cur_batch_size*text_length, NUM_CLASSES)\n",
    "            gold = batch['labels'].to(device).view(cur_batch_size*text_length)\n",
    "\n",
    "            _, pred_indices = torch.max(pred, 1)\n",
    "            predicted_labels = list(pred_indices.cpu().numpy())\n",
    "            correct_labels = list(batch['labels'].view(cur_batch_size*text_length).numpy())\n",
    "\n",
    "\n",
    "\n",
    "            predicted_labels, correct_labels = remove_predictions_for_masked_items(predicted_labels, \n",
    "                                                                                   correct_labels)\n",
    "\n",
    "            predictions += predicted_labels\n",
    "            correct += correct_labels\n",
    "    \n",
    "    print(classification_report(correct, predictions, labels=labels, target_names=target_names))"
   ]
  },
  {
   "cell_type": "code",
   "execution_count": 15,
   "id": "6c81bae9",
   "metadata": {},
   "outputs": [],
   "source": [
    "EMBEDDING_DIM = 100\n",
    "HIDDEN_DIM = 64\n",
    "NUM_CLASSES = len(id2label)\n",
    "MAX_EPOCHS = 50\n",
    "PATIENCE = 3\n",
    "BATCH_SIZE = 32\n",
    "VOCAB_SIZE = len(word2id)\n",
    "OUTPUT_PATH = \"/tmp/bilstmtagger\"\n",
    "num_batches = math.ceil(len(train_df) / BATCH_SIZE)"
   ]
  },
  {
   "cell_type": "code",
   "execution_count": 16,
   "id": "eb5a959a",
   "metadata": {},
   "outputs": [],
   "source": [
    "train_dataset = CoNLLDataset(train_df)\n",
    "val_dataset = CoNLLDataset(val_df)\n",
    "test_dataset = CoNLLDataset(test_df)"
   ]
  },
  {
   "cell_type": "code",
   "execution_count": 17,
   "id": "5bb47000",
   "metadata": {
    "code_folding": []
   },
   "outputs": [],
   "source": [
    "train_loader = DataLoader(train_dataset,\n",
    "                              batch_size=BATCH_SIZE,\n",
    "                              shuffle=False,\n",
    "                              collate_fn=collate_fn,\n",
    "                              num_workers=4,\n",
    "                              pin_memory=True,\n",
    "                              drop_last=False)\n",
    "\n",
    "val_loader = DataLoader(val_dataset,\n",
    "                              batch_size=BATCH_SIZE,\n",
    "                              shuffle=False,\n",
    "                              collate_fn=collate_fn,\n",
    "                              num_workers=4,\n",
    "                              pin_memory=True,\n",
    "                              drop_last=False)\n",
    "\n",
    "test_loader = DataLoader(test_dataset,\n",
    "                              batch_size=BATCH_SIZE,\n",
    "                              shuffle=False,\n",
    "                              collate_fn=collate_fn,\n",
    "                              num_workers=4,\n",
    "                              pin_memory=True,\n",
    "                              drop_last=False)"
   ]
  },
  {
   "cell_type": "code",
   "execution_count": 18,
   "id": "51d4958c",
   "metadata": {},
   "outputs": [
    {
     "data": {
      "text/plain": [
       "BiLSTMTagger(\n",
       "  (embeddings): Embedding(11986, 100)\n",
       "  (lstm): LSTM(100, 64, num_layers=3, batch_first=True, bidirectional=True)\n",
       "  (fc): Linear(in_features=128, out_features=9, bias=True)\n",
       ")"
      ]
     },
     "execution_count": 18,
     "metadata": {},
     "output_type": "execute_result"
    }
   ],
   "source": [
    "tagger = BiLSTMTagger(EMBEDDING_DIM, HIDDEN_DIM, VOCAB_SIZE+2, NUM_CLASSES) \n",
    "tagger"
   ]
  },
  {
   "cell_type": "code",
   "execution_count": 19,
   "id": "98901cd8",
   "metadata": {
    "scrolled": true
   },
   "outputs": [
    {
     "data": {
      "application/vnd.jupyter.widget-view+json": {
       "model_id": "eaa4f413522348748015da8c63103f15",
       "version_major": 2,
       "version_minor": 0
      },
      "text/plain": [
       "Epoch 0:   0%|          | 0/1 [00:00<?, ?it/s]"
      ]
     },
     "metadata": {},
     "output_type": "display_data"
    },
    {
     "name": "stdout",
     "output_type": "stream",
     "text": [
      "Total training loss: 338.05778880417347\n",
      "Training Macro F1: 0.029850534784372544\n",
      "Total validation loss: 52.80369229614735\n",
      "Validation Macro F1: 0.15888431476923076\n",
      "Saving model.\n"
     ]
    },
    {
     "data": {
      "application/vnd.jupyter.widget-view+json": {
       "model_id": "339c00223705430c97c84d008c16f98e",
       "version_major": 2,
       "version_minor": 0
      },
      "text/plain": [
       "Epoch 1:   0%|          | 0/1 [00:00<?, ?it/s]"
      ]
     },
     "metadata": {},
     "output_type": "display_data"
    },
    {
     "name": "stdout",
     "output_type": "stream",
     "text": [
      "Total training loss: 157.69785359874368\n",
      "Training Macro F1: 0.4028023452748979\n",
      "Total validation loss: 28.38935230486095\n",
      "Validation Macro F1: 0.47907729593486387\n",
      "Saving model.\n"
     ]
    },
    {
     "data": {
      "application/vnd.jupyter.widget-view+json": {
       "model_id": "12147ed80a9a43509a8608ccf25da2b8",
       "version_major": 2,
       "version_minor": 0
      },
      "text/plain": [
       "Epoch 2:   0%|          | 0/1 [00:00<?, ?it/s]"
      ]
     },
     "metadata": {},
     "output_type": "display_data"
    },
    {
     "name": "stdout",
     "output_type": "stream",
     "text": [
      "Total training loss: 85.81610597623512\n",
      "Training Macro F1: 0.6283749725866336\n",
      "Total validation loss: 21.03705334244296\n",
      "Validation Macro F1: 0.6445286423602512\n",
      "Saving model.\n"
     ]
    },
    {
     "data": {
      "application/vnd.jupyter.widget-view+json": {
       "model_id": "b92ca24bdf654a919ce77cd27dd5fc62",
       "version_major": 2,
       "version_minor": 0
      },
      "text/plain": [
       "Epoch 3:   0%|          | 0/1 [00:00<?, ?it/s]"
      ]
     },
     "metadata": {},
     "output_type": "display_data"
    },
    {
     "name": "stdout",
     "output_type": "stream",
     "text": [
      "Total training loss: 52.59428001777269\n",
      "Training Macro F1: 0.7292396213060545\n",
      "Total validation loss: 17.833247248083353\n",
      "Validation Macro F1: 0.6915401395464842\n",
      "Saving model.\n"
     ]
    },
    {
     "data": {
      "application/vnd.jupyter.widget-view+json": {
       "model_id": "8707b10c2c20468d9c9573507de2b8da",
       "version_major": 2,
       "version_minor": 0
      },
      "text/plain": [
       "Epoch 4:   0%|          | 0/1 [00:00<?, ?it/s]"
      ]
     },
     "metadata": {},
     "output_type": "display_data"
    },
    {
     "name": "stdout",
     "output_type": "stream",
     "text": [
      "Total training loss: 33.93036324484274\n",
      "Training Macro F1: 0.7862612677844731\n",
      "Total validation loss: 16.81808718224056\n",
      "Validation Macro F1: 0.7129063809637389\n",
      "Saving model.\n"
     ]
    },
    {
     "data": {
      "application/vnd.jupyter.widget-view+json": {
       "model_id": "f78bba6882f146e1aafd7b7a9c46d181",
       "version_major": 2,
       "version_minor": 0
      },
      "text/plain": [
       "Epoch 5:   0%|          | 0/1 [00:00<?, ?it/s]"
      ]
     },
     "metadata": {},
     "output_type": "display_data"
    },
    {
     "name": "stdout",
     "output_type": "stream",
     "text": [
      "Total training loss: 22.999371595680714\n",
      "Training Macro F1: 0.822347934951575\n",
      "Total validation loss: 16.973952096770518\n",
      "Validation Macro F1: 0.714787931687375\n",
      "Saving model.\n"
     ]
    },
    {
     "data": {
      "application/vnd.jupyter.widget-view+json": {
       "model_id": "9cb5999e9e7d4b8b8d1bbb50a6058c00",
       "version_major": 2,
       "version_minor": 0
      },
      "text/plain": [
       "Epoch 6:   0%|          | 0/1 [00:00<?, ?it/s]"
      ]
     },
     "metadata": {},
     "output_type": "display_data"
    },
    {
     "name": "stdout",
     "output_type": "stream",
     "text": [
      "Total training loss: 15.918071352876723\n",
      "Training Macro F1: 0.8451432247360013\n",
      "Total validation loss: 18.107751118426677\n",
      "Validation Macro F1: 0.7174530603447911\n",
      "Saving model.\n"
     ]
    },
    {
     "data": {
      "application/vnd.jupyter.widget-view+json": {
       "model_id": "78485d1ef98c4806a37e57263e951d83",
       "version_major": 2,
       "version_minor": 0
      },
      "text/plain": [
       "Epoch 7:   0%|          | 0/1 [00:00<?, ?it/s]"
      ]
     },
     "metadata": {},
     "output_type": "display_data"
    },
    {
     "name": "stdout",
     "output_type": "stream",
     "text": [
      "Total training loss: 11.740883170219604\n",
      "Training Macro F1: 0.8573486369548743\n",
      "Total validation loss: 20.671968238137197\n",
      "Validation Macro F1: 0.7169977445601403\n"
     ]
    },
    {
     "data": {
      "application/vnd.jupyter.widget-view+json": {
       "model_id": "483cb379e197430888a2e0f4f6e1be3d",
       "version_major": 2,
       "version_minor": 0
      },
      "text/plain": [
       "Epoch 8:   0%|          | 0/1 [00:00<?, ?it/s]"
      ]
     },
     "metadata": {},
     "output_type": "display_data"
    },
    {
     "name": "stdout",
     "output_type": "stream",
     "text": [
      "Total training loss: 8.939718780471594\n",
      "Training Macro F1: 0.8668117995292963\n",
      "Total validation loss: 20.047128543577855\n",
      "Validation Macro F1: 0.7199212493277352\n",
      "Saving model.\n"
     ]
    },
    {
     "data": {
      "application/vnd.jupyter.widget-view+json": {
       "model_id": "32f2343f904e4ab28f14db27112eae41",
       "version_major": 2,
       "version_minor": 0
      },
      "text/plain": [
       "Epoch 9:   0%|          | 0/1 [00:00<?, ?it/s]"
      ]
     },
     "metadata": {},
     "output_type": "display_data"
    },
    {
     "name": "stdout",
     "output_type": "stream",
     "text": [
      "Total training loss: 6.942469063884346\n",
      "Training Macro F1: 0.8716885141246884\n",
      "Total validation loss: 20.25707124666951\n",
      "Validation Macro F1: 0.728647589173789\n",
      "Saving model.\n"
     ]
    },
    {
     "data": {
      "application/vnd.jupyter.widget-view+json": {
       "model_id": "fda34c2a0fb74e2a851bd90369911237",
       "version_major": 2,
       "version_minor": 0
      },
      "text/plain": [
       "Epoch 10:   0%|          | 0/1 [00:00<?, ?it/s]"
      ]
     },
     "metadata": {},
     "output_type": "display_data"
    },
    {
     "name": "stdout",
     "output_type": "stream",
     "text": [
      "Total training loss: 5.956361190590542\n",
      "Training Macro F1: 0.8736432327608044\n",
      "Total validation loss: 20.771715039998526\n",
      "Validation Macro F1: 0.7298283068129906\n",
      "Saving model.\n"
     ]
    },
    {
     "data": {
      "application/vnd.jupyter.widget-view+json": {
       "model_id": "4a6cf747542b42228352cfd1b6770f89",
       "version_major": 2,
       "version_minor": 0
      },
      "text/plain": [
       "Epoch 11:   0%|          | 0/1 [00:00<?, ?it/s]"
      ]
     },
     "metadata": {},
     "output_type": "display_data"
    },
    {
     "name": "stdout",
     "output_type": "stream",
     "text": [
      "Total training loss: 5.389634548468166\n",
      "Training Macro F1: 0.8766733696668421\n",
      "Total validation loss: 22.15112502806005\n",
      "Validation Macro F1: 0.7255828240179866\n"
     ]
    },
    {
     "data": {
      "application/vnd.jupyter.widget-view+json": {
       "model_id": "10bf03ab88174846a816cec6c70d2aa6",
       "version_major": 2,
       "version_minor": 0
      },
      "text/plain": [
       "Epoch 12:   0%|          | 0/1 [00:00<?, ?it/s]"
      ]
     },
     "metadata": {},
     "output_type": "display_data"
    },
    {
     "name": "stdout",
     "output_type": "stream",
     "text": [
      "Total training loss: 4.25818737391819\n",
      "Training Macro F1: 0.8786361158717111\n",
      "Total validation loss: 22.71905472677463\n",
      "Validation Macro F1: 0.7256896105377725\n"
     ]
    },
    {
     "data": {
      "application/vnd.jupyter.widget-view+json": {
       "model_id": "b547dc8f7db44d918cb5db33d997bf33",
       "version_major": 2,
       "version_minor": 0
      },
      "text/plain": [
       "Epoch 13:   0%|          | 0/1 [00:00<?, ?it/s]"
      ]
     },
     "metadata": {},
     "output_type": "display_data"
    },
    {
     "name": "stdout",
     "output_type": "stream",
     "text": [
      "Total training loss: 3.7578197256370913\n",
      "Training Macro F1: 0.8801709634813502\n",
      "Total validation loss: 22.738196911508567\n",
      "Validation Macro F1: 0.7315885766438814\n",
      "Saving model.\n"
     ]
    },
    {
     "data": {
      "application/vnd.jupyter.widget-view+json": {
       "model_id": "9107c5072bd34fb7b0bc204d8d599bb1",
       "version_major": 2,
       "version_minor": 0
      },
      "text/plain": [
       "Epoch 14:   0%|          | 0/1 [00:00<?, ?it/s]"
      ]
     },
     "metadata": {},
     "output_type": "display_data"
    },
    {
     "name": "stdout",
     "output_type": "stream",
     "text": [
      "Total training loss: 2.5411142347802524\n",
      "Training Macro F1: 0.8839959222235443\n",
      "Total validation loss: 24.557404159884754\n",
      "Validation Macro F1: 0.7261746147908493\n"
     ]
    },
    {
     "data": {
      "application/vnd.jupyter.widget-view+json": {
       "model_id": "43b268bd8fff4c82b609b2ec7fa985c1",
       "version_major": 2,
       "version_minor": 0
      },
      "text/plain": [
       "Epoch 15:   0%|          | 0/1 [00:00<?, ?it/s]"
      ]
     },
     "metadata": {},
     "output_type": "display_data"
    },
    {
     "name": "stdout",
     "output_type": "stream",
     "text": [
      "Total training loss: 1.9257397375149594\n",
      "Training Macro F1: 0.8852321721356513\n",
      "Total validation loss: 24.948571853474277\n",
      "Validation Macro F1: 0.7297803855590437\n"
     ]
    },
    {
     "data": {
      "application/vnd.jupyter.widget-view+json": {
       "model_id": "25967b8445934798acf7790fd7aa802b",
       "version_major": 2,
       "version_minor": 0
      },
      "text/plain": [
       "Epoch 16:   0%|          | 0/1 [00:00<?, ?it/s]"
      ]
     },
     "metadata": {},
     "output_type": "display_data"
    },
    {
     "name": "stdout",
     "output_type": "stream",
     "text": [
      "Total training loss: 1.8256175897768117\n",
      "Training Macro F1: 0.8850698547897238\n",
      "Total validation loss: 24.47779353572696\n",
      "Validation Macro F1: 0.7316211614325002\n",
      "Saving model.\n"
     ]
    },
    {
     "data": {
      "application/vnd.jupyter.widget-view+json": {
       "model_id": "c5d50dfe7948473e92ea49f120ce4f13",
       "version_major": 2,
       "version_minor": 0
      },
      "text/plain": [
       "Epoch 17:   0%|          | 0/1 [00:00<?, ?it/s]"
      ]
     },
     "metadata": {},
     "output_type": "display_data"
    },
    {
     "name": "stdout",
     "output_type": "stream",
     "text": [
      "Total training loss: 1.7314149817593716\n",
      "Training Macro F1: 0.8855104932677124\n",
      "Total validation loss: 25.820302798892953\n",
      "Validation Macro F1: 0.7328620465463237\n",
      "Saving model.\n"
     ]
    },
    {
     "data": {
      "application/vnd.jupyter.widget-view+json": {
       "model_id": "6efd777651564bcd8fc01a6d94100a13",
       "version_major": 2,
       "version_minor": 0
      },
      "text/plain": [
       "Epoch 18:   0%|          | 0/1 [00:00<?, ?it/s]"
      ]
     },
     "metadata": {},
     "output_type": "display_data"
    },
    {
     "name": "stdout",
     "output_type": "stream",
     "text": [
      "Total training loss: 2.40282726318037\n",
      "Training Macro F1: 0.8833111447718714\n",
      "Total validation loss: 25.030858986636304\n",
      "Validation Macro F1: 0.7345651816735229\n",
      "Saving model.\n"
     ]
    },
    {
     "data": {
      "application/vnd.jupyter.widget-view+json": {
       "model_id": "6b8d6149fa784ad0b64758f211d5e31c",
       "version_major": 2,
       "version_minor": 0
      },
      "text/plain": [
       "Epoch 19:   0%|          | 0/1 [00:00<?, ?it/s]"
      ]
     },
     "metadata": {},
     "output_type": "display_data"
    },
    {
     "name": "stdout",
     "output_type": "stream",
     "text": [
      "Total training loss: 3.373094162599955\n",
      "Training Macro F1: 0.8803619902991399\n",
      "Total validation loss: 24.685203541695955\n",
      "Validation Macro F1: 0.7276323132773954\n"
     ]
    },
    {
     "data": {
      "application/vnd.jupyter.widget-view+json": {
       "model_id": "732d1eeee78245319d0be24abd70e784",
       "version_major": 2,
       "version_minor": 0
      },
      "text/plain": [
       "Epoch 20:   0%|          | 0/1 [00:00<?, ?it/s]"
      ]
     },
     "metadata": {},
     "output_type": "display_data"
    },
    {
     "name": "stdout",
     "output_type": "stream",
     "text": [
      "Total training loss: 2.7041560166599083\n",
      "Training Macro F1: 0.8823957322670335\n",
      "Total validation loss: 25.657489695640834\n",
      "Validation Macro F1: 0.7290910969154748\n"
     ]
    },
    {
     "data": {
      "application/vnd.jupyter.widget-view+json": {
       "model_id": "c8cbfbb263ad457991f310efa517127a",
       "version_major": 2,
       "version_minor": 0
      },
      "text/plain": [
       "Epoch 21:   0%|          | 0/1 [00:00<?, ?it/s]"
      ]
     },
     "metadata": {},
     "output_type": "display_data"
    },
    {
     "name": "stdout",
     "output_type": "stream",
     "text": [
      "Total training loss: 1.3506830804344645\n",
      "Training Macro F1: 0.8863552934681872\n",
      "Total validation loss: 27.3473722807812\n",
      "Validation Macro F1: 0.7338447639417036\n"
     ]
    },
    {
     "data": {
      "application/vnd.jupyter.widget-view+json": {
       "model_id": "d4861094cecf44d99265ca79588d26bc",
       "version_major": 2,
       "version_minor": 0
      },
      "text/plain": [
       "Epoch 22:   0%|          | 0/1 [00:00<?, ?it/s]"
      ]
     },
     "metadata": {},
     "output_type": "display_data"
    },
    {
     "name": "stdout",
     "output_type": "stream",
     "text": [
      "Total training loss: 0.7844546082924353\n",
      "Training Macro F1: 0.8873819716645233\n",
      "Total validation loss: 27.309885095215577\n",
      "Validation Macro F1: 0.7359163128108963\n",
      "Saving model.\n"
     ]
    },
    {
     "data": {
      "application/vnd.jupyter.widget-view+json": {
       "model_id": "a03853aabac345cba655226457e2deda",
       "version_major": 2,
       "version_minor": 0
      },
      "text/plain": [
       "Epoch 23:   0%|          | 0/1 [00:00<?, ?it/s]"
      ]
     },
     "metadata": {},
     "output_type": "display_data"
    },
    {
     "name": "stdout",
     "output_type": "stream",
     "text": [
      "Total training loss: 0.6946804611561674\n",
      "Training Macro F1: 0.8878056123123409\n",
      "Total validation loss: 28.5092304397549\n",
      "Validation Macro F1: 0.7328845190019084\n"
     ]
    },
    {
     "data": {
      "application/vnd.jupyter.widget-view+json": {
       "model_id": "d7373fd82ae2409ba361b04c3bad02fa",
       "version_major": 2,
       "version_minor": 0
      },
      "text/plain": [
       "Epoch 24:   0%|          | 0/1 [00:00<?, ?it/s]"
      ]
     },
     "metadata": {},
     "output_type": "display_data"
    },
    {
     "name": "stdout",
     "output_type": "stream",
     "text": [
      "Total training loss: 0.6408728347914803\n",
      "Training Macro F1: 0.8879104884969947\n",
      "Total validation loss: 28.08802764108168\n",
      "Validation Macro F1: 0.7365017702073496\n",
      "Saving model.\n"
     ]
    },
    {
     "data": {
      "application/vnd.jupyter.widget-view+json": {
       "model_id": "edd5e24cb4d14047bae31e8933d4b81f",
       "version_major": 2,
       "version_minor": 0
      },
      "text/plain": [
       "Epoch 25:   0%|          | 0/1 [00:00<?, ?it/s]"
      ]
     },
     "metadata": {},
     "output_type": "display_data"
    },
    {
     "name": "stdout",
     "output_type": "stream",
     "text": [
      "Total training loss: 1.1239040709147048\n",
      "Training Macro F1: 0.8861326997992928\n",
      "Total validation loss: 28.9653683378383\n",
      "Validation Macro F1: 0.7222982350765048\n"
     ]
    },
    {
     "data": {
      "application/vnd.jupyter.widget-view+json": {
       "model_id": "076b19a428b44f90a0d6c79afd1730ec",
       "version_major": 2,
       "version_minor": 0
      },
      "text/plain": [
       "Epoch 26:   0%|          | 0/1 [00:00<?, ?it/s]"
      ]
     },
     "metadata": {},
     "output_type": "display_data"
    },
    {
     "name": "stdout",
     "output_type": "stream",
     "text": [
      "Total training loss: 4.598749989278076\n",
      "Training Macro F1: 0.8741228678437177\n",
      "Total validation loss: 25.849350801407127\n",
      "Validation Macro F1: 0.726686692804506\n"
     ]
    },
    {
     "data": {
      "application/vnd.jupyter.widget-view+json": {
       "model_id": "19f525c1b21c495cb61bb8aafb8a4946",
       "version_major": 2,
       "version_minor": 0
      },
      "text/plain": [
       "Epoch 27:   0%|          | 0/1 [00:00<?, ?it/s]"
      ]
     },
     "metadata": {},
     "output_type": "display_data"
    },
    {
     "name": "stdout",
     "output_type": "stream",
     "text": [
      "Total training loss: 2.337516318530106\n",
      "Training Macro F1: 0.88403981957758\n",
      "Total validation loss: 25.617120698421786\n",
      "Validation Macro F1: 0.7297238736636488\n"
     ]
    },
    {
     "data": {
      "application/vnd.jupyter.widget-view+json": {
       "model_id": "3aacf5adda1f4d84ab2facfb0683693d",
       "version_major": 2,
       "version_minor": 0
      },
      "text/plain": [
       "Epoch 28:   0%|          | 0/1 [00:00<?, ?it/s]"
      ]
     },
     "metadata": {},
     "output_type": "display_data"
    },
    {
     "name": "stdout",
     "output_type": "stream",
     "text": [
      "Total training loss: 1.044020002716934\n",
      "Training Macro F1: 0.8866711300834349\n",
      "Total validation loss: 27.063435720003326\n",
      "Validation Macro F1: 0.7313534862754345\n",
      "Validation F-score does not improve anymore. Stop training.\n"
     ]
    }
   ],
   "source": [
    "train_f, dev_f = train(tagger.to(device), train_loader, val_loader, BATCH_SIZE, MAX_EPOCHS, \n",
    "                       num_batches, PATIENCE, OUTPUT_PATH)"
   ]
  },
  {
   "cell_type": "code",
   "execution_count": 20,
   "id": "76c752b4",
   "metadata": {},
   "outputs": [
    {
     "data": {
      "image/png": "[encoded data removed]",
      "text/plain": [
       "<Figure size 640x480 with 1 Axes>"
      ]
     },
     "metadata": {},
     "output_type": "display_data"
    }
   ],
   "source": [
    "df = pd.DataFrame({'epochs': range(0,len(train_f)), \n",
    "                  'train_f1': train_f, \n",
    "                   'dev_f1': dev_f})\n",
    "\n",
    "plt.plot('epochs', 'train_f1', data=df, color='blue', linewidth=2)\n",
    "plt.plot('epochs', 'dev_f1', data=df, color='green', linewidth=2)\n",
    "plt.legend()\n",
    "plt.show()"
   ]
  },
  {
   "cell_type": "code",
   "execution_count": 21,
   "id": "e6e89ad6",
   "metadata": {},
   "outputs": [],
   "source": [
    "tagger = torch.load(OUTPUT_PATH)"
   ]
  },
  {
   "cell_type": "code",
   "execution_count": 22,
   "id": "68a11561",
   "metadata": {},
   "outputs": [
    {
     "name": "stdout",
     "output_type": "stream",
     "text": [
      "              precision    recall  f1-score   support\n",
      "\n",
      "       B-PER       0.87      0.70      0.77      1617\n",
      "       I-PER       0.91      0.77      0.83      1156\n",
      "       B-ORG       0.83      0.66      0.73      1661\n",
      "       I-ORG       0.85      0.69      0.76       835\n",
      "       B-LOC       0.91      0.77      0.83      1668\n",
      "       I-LOC       0.83      0.61      0.70       257\n",
      "      B-MISC       0.73      0.69      0.71       702\n",
      "      I-MISC       0.70      0.60      0.65       216\n",
      "\n",
      "   micro avg       0.86      0.71      0.77      8112\n",
      "   macro avg       0.83      0.68      0.75      8112\n",
      "weighted avg       0.86      0.71      0.77      8112\n",
      "\n"
     ]
    }
   ],
   "source": [
    "labels = list(label2id.keys())[1:]\n",
    "label_idxs = list(label2id.values())[1:]\n",
    "\n",
    "test(tagger, test_loader, BATCH_SIZE, labels = label_idxs, target_names = labels)"
   ]
  }
 ],
 "metadata": {
  "kernelspec": {
   "display_name": ".venv",
   "language": "python",
   "name": "python3"
  },
  "language_info": {
   "codemirror_mode": {
    "name": "ipython",
    "version": 3
   },
   "file_extension": ".py",
   "mimetype": "text/x-python",
   "name": "python",
   "nbconvert_exporter": "python",
   "pygments_lexer": "ipython3",
   "version": "3.12.3"
  },
  "toc": {
   "base_numbering": 1,
   "nav_menu": {},
   "number_sections": true,
   "sideBar": true,
   "skip_h1_title": false,
   "title_cell": "Table of Contents",
   "title_sidebar": "Contents",
   "toc_cell": false,
   "toc_position": {},
   "toc_section_display": true,
   "toc_window_display": false
  }
 },
 "nbformat": 4,
 "nbformat_minor": 5
}
