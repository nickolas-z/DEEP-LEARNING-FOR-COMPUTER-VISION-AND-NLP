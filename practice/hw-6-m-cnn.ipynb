{
 "cells": [
  {
   "cell_type": "code",
   "execution_count": 1,
   "id": "8971c1fd",
   "metadata": {
    "_cell_guid": "b1076dfc-b9ad-4769-8c92-a6c4dae69d19",
    "_uuid": "8f2839f25d086af736a60e9eeb907d3b93b6e0e5",
    "execution": {
     "iopub.execute_input": "2025-02-08T14:47:41.880338Z",
     "iopub.status.busy": "2025-02-08T14:47:41.880050Z",
     "iopub.status.idle": "2025-02-08T14:47:51.157149Z",
     "shell.execute_reply": "2025-02-08T14:47:51.156358Z"
    },
    "papermill": {
     "duration": 9.283476,
     "end_time": "2025-02-08T14:47:51.158659",
     "exception": false,
     "start_time": "2025-02-08T14:47:41.875183",
     "status": "completed"
    },
    "tags": []
   },
   "outputs": [],
   "source": [
    "import torch\n",
    "import torch.nn as nn\n",
    "import torch.optim as optim\n",
    "from torchvision import datasets, transforms, models\n",
    "from torch.utils.data import DataLoader, random_split\n",
    "from torchvision.utils import make_grid\n",
    "import torch.nn.functional as F\n",
    "\n",
    "import matplotlib.pyplot as plt\n",
    "import numpy as np\n",
    "from sklearn.metrics import confusion_matrix, f1_score\n",
    "import seaborn as sns\n",
    "\n",
    "import warnings\n",
    "# filter warnings\n",
    "warnings.filterwarnings('ignore')\n",
    "\n",
    "from tqdm import tqdm"
   ]
  },
  {
   "cell_type": "code",
   "execution_count": 2,
   "id": "563d9dad",
   "metadata": {
    "execution": {
     "iopub.execute_input": "2025-02-08T14:47:51.166659Z",
     "iopub.status.busy": "2025-02-08T14:47:51.166290Z",
     "iopub.status.idle": "2025-02-08T14:47:51.169190Z",
     "shell.execute_reply": "2025-02-08T14:47:51.168619Z"
    },
    "papermill": {
     "duration": 0.0079,
     "end_time": "2025-02-08T14:47:51.170348",
     "exception": false,
     "start_time": "2025-02-08T14:47:51.162448",
     "status": "completed"
    },
    "tags": []
   },
   "outputs": [],
   "source": [
    "train_dir = '/kaggle/input/intel-image-classification/seg_train/seg_train'\n",
    "test_dir = '/kaggle/input/intel-image-classification/seg_test/seg_test'"
   ]
  },
  {
   "cell_type": "code",
   "execution_count": 3,
   "id": "5de04119",
   "metadata": {
    "execution": {
     "iopub.execute_input": "2025-02-08T14:47:51.177369Z",
     "iopub.status.busy": "2025-02-08T14:47:51.177167Z",
     "iopub.status.idle": "2025-02-08T14:47:51.180452Z",
     "shell.execute_reply": "2025-02-08T14:47:51.179898Z"
    },
    "papermill": {
     "duration": 0.008045,
     "end_time": "2025-02-08T14:47:51.181654",
     "exception": false,
     "start_time": "2025-02-08T14:47:51.173609",
     "status": "completed"
    },
    "tags": []
   },
   "outputs": [],
   "source": [
    "transform = transforms.Compose([\n",
    "    transforms.Resize((150, 150)),\n",
    "    transforms.ToTensor(),\n",
    "    transforms.Normalize(mean=[0.485, 0.456, 0.406], std=[0.229, 0.224, 0.225])\n",
    "])"
   ]
  },
  {
   "cell_type": "code",
   "execution_count": 4,
   "id": "4f515693",
   "metadata": {
    "execution": {
     "iopub.execute_input": "2025-02-08T14:47:51.188658Z",
     "iopub.status.busy": "2025-02-08T14:47:51.188410Z",
     "iopub.status.idle": "2025-02-08T14:48:14.578826Z",
     "shell.execute_reply": "2025-02-08T14:48:14.577867Z"
    },
    "papermill": {
     "duration": 23.39569,
     "end_time": "2025-02-08T14:48:14.580496",
     "exception": false,
     "start_time": "2025-02-08T14:47:51.184806",
     "status": "completed"
    },
    "tags": []
   },
   "outputs": [],
   "source": [
    "# Завантаження даних\n",
    "train_data = datasets.ImageFolder(train_dir, transform=transform)\n",
    "test_data = datasets.ImageFolder(test_dir, transform=transform)"
   ]
  },
  {
   "cell_type": "code",
   "execution_count": 5,
   "id": "9aa12e96",
   "metadata": {
    "execution": {
     "iopub.execute_input": "2025-02-08T14:48:14.588327Z",
     "iopub.status.busy": "2025-02-08T14:48:14.588086Z",
     "iopub.status.idle": "2025-02-08T14:48:14.612124Z",
     "shell.execute_reply": "2025-02-08T14:48:14.611510Z"
    },
    "papermill": {
     "duration": 0.029201,
     "end_time": "2025-02-08T14:48:14.613375",
     "exception": false,
     "start_time": "2025-02-08T14:48:14.584174",
     "status": "completed"
    },
    "tags": []
   },
   "outputs": [],
   "source": [
    "# Розділення тренувального набору на тренувальний та валідаційний\n",
    "train_size = int(0.8 * len(train_data))\n",
    "val_size = len(train_data) - train_size\n",
    "train_dataset, val_dataset = random_split(train_data, [train_size, val_size])\n"
   ]
  },
  {
   "cell_type": "code",
   "execution_count": 6,
   "id": "a5538c27",
   "metadata": {
    "execution": {
     "iopub.execute_input": "2025-02-08T14:48:14.620736Z",
     "iopub.status.busy": "2025-02-08T14:48:14.620451Z",
     "iopub.status.idle": "2025-02-08T14:48:14.624054Z",
     "shell.execute_reply": "2025-02-08T14:48:14.623440Z"
    },
    "papermill": {
     "duration": 0.008564,
     "end_time": "2025-02-08T14:48:14.625250",
     "exception": false,
     "start_time": "2025-02-08T14:48:14.616686",
     "status": "completed"
    },
    "tags": []
   },
   "outputs": [],
   "source": [
    "# Створення завантажувачів даних\n",
    "train_loader = DataLoader(train_dataset, batch_size=32, shuffle=True)\n",
    "val_loader = DataLoader(val_dataset, batch_size=32)\n",
    "test_loader = DataLoader(test_data, batch_size=32)"
   ]
  },
  {
   "cell_type": "code",
   "execution_count": 7,
   "id": "0e383b29",
   "metadata": {
    "execution": {
     "iopub.execute_input": "2025-02-08T14:48:14.632414Z",
     "iopub.status.busy": "2025-02-08T14:48:14.632202Z",
     "iopub.status.idle": "2025-02-08T14:48:14.641448Z",
     "shell.execute_reply": "2025-02-08T14:48:14.640433Z"
    },
    "papermill": {
     "duration": 0.014215,
     "end_time": "2025-02-08T14:48:14.642721",
     "exception": false,
     "start_time": "2025-02-08T14:48:14.628506",
     "status": "completed"
    },
    "tags": []
   },
   "outputs": [
    {
     "name": "stdout",
     "output_type": "stream",
     "text": [
      "Кількість класів: 6\n",
      "Класи: ['buildings', 'forest', 'glacier', 'mountain', 'sea', 'street']\n",
      "Розмір тренувального набору: 11227\n",
      "Розмір валідаційного набору: 2807\n",
      "Розмір тестового набору: 3000\n",
      "\n",
      "Розподіл класів у тренувальному наборі:\n",
      "buildings: 2191\n",
      "forest: 2271\n",
      "glacier: 2404\n",
      "mountain: 2512\n",
      "sea: 2274\n",
      "street: 2382\n"
     ]
    }
   ],
   "source": [
    "# Виведення інформації про набори даних\n",
    "print(f\"Кількість класів: {len(train_data.classes)}\")\n",
    "print(f\"Класи: {train_data.classes}\")\n",
    "print(f\"Розмір тренувального набору: {len(train_dataset)}\")\n",
    "print(f\"Розмір валідаційного набору: {len(val_dataset)}\")\n",
    "print(f\"Розмір тестового набору: {len(test_data)}\")\n",
    "\n",
    "# Перевірка балансу класів\n",
    "class_counts = {class_name: 0 for class_name in train_data.classes}\n",
    "for _, label in train_data.samples:\n",
    "    class_counts[train_data.classes[label]] += 1\n",
    "\n",
    "print(\"\\nРозподіл класів у тренувальному наборі:\")\n",
    "for class_name, count in class_counts.items():\n",
    "    print(f\"{class_name}: {count}\")"
   ]
  },
  {
   "cell_type": "code",
   "execution_count": 8,
   "id": "51391fbd",
   "metadata": {
    "execution": {
     "iopub.execute_input": "2025-02-08T14:48:14.650254Z",
     "iopub.status.busy": "2025-02-08T14:48:14.650038Z",
     "iopub.status.idle": "2025-02-08T14:48:14.658629Z",
     "shell.execute_reply": "2025-02-08T14:48:14.657965Z"
    },
    "papermill": {
     "duration": 0.013844,
     "end_time": "2025-02-08T14:48:14.659906",
     "exception": false,
     "start_time": "2025-02-08T14:48:14.646062",
     "status": "completed"
    },
    "tags": []
   },
   "outputs": [
    {
     "name": "stdout",
     "output_type": "stream",
     "text": [
      "\n",
      "Розподіл класів у тренувальному наборі:\n",
      "buildings: 2191\n",
      "forest: 2271\n",
      "glacier: 2404\n",
      "mountain: 2512\n",
      "sea: 2274\n",
      "street: 2382\n"
     ]
    }
   ],
   "source": [
    "# Перевірка балансу класів\n",
    "class_counts = {class_name: 0 for class_name in train_data.classes}\n",
    "for _, label in train_data.samples:\n",
    "    class_counts[train_data.classes[label]] += 1\n",
    "\n",
    "print(\"\\nРозподіл класів у тренувальному наборі:\")\n",
    "for class_name, count in class_counts.items():\n",
    "    print(f\"{class_name}: {count}\")"
   ]
  },
  {
   "cell_type": "code",
   "execution_count": 9,
   "id": "9da64034",
   "metadata": {
    "execution": {
     "iopub.execute_input": "2025-02-08T14:48:14.667488Z",
     "iopub.status.busy": "2025-02-08T14:48:14.667220Z",
     "iopub.status.idle": "2025-02-08T14:48:14.847778Z",
     "shell.execute_reply": "2025-02-08T14:48:14.847048Z"
    },
    "papermill": {
     "duration": 0.185972,
     "end_time": "2025-02-08T14:48:14.849311",
     "exception": false,
     "start_time": "2025-02-08T14:48:14.663339",
     "status": "completed"
    },
    "tags": []
   },
   "outputs": [
    {
     "name": "stdout",
     "output_type": "stream",
     "text": [
      "SimpleCNN(\n",
      "  (conv1): Conv2d(3, 32, kernel_size=(3, 3), stride=(1, 1), padding=(1, 1))\n",
      "  (bn1): BatchNorm2d(32, eps=1e-05, momentum=0.1, affine=True, track_running_stats=True)\n",
      "  (conv2): Conv2d(32, 64, kernel_size=(3, 3), stride=(1, 1), padding=(1, 1))\n",
      "  (bn2): BatchNorm2d(64, eps=1e-05, momentum=0.1, affine=True, track_running_stats=True)\n",
      "  (conv3): Conv2d(64, 128, kernel_size=(3, 3), stride=(1, 1), padding=(1, 1))\n",
      "  (bn3): BatchNorm2d(128, eps=1e-05, momentum=0.1, affine=True, track_running_stats=True)\n",
      "  (pool): MaxPool2d(kernel_size=2, stride=2, padding=0, dilation=1, ceil_mode=False)\n",
      "  (fc1): Linear(in_features=41472, out_features=128, bias=True)\n",
      "  (fc2): Linear(in_features=128, out_features=6, bias=True)\n",
      ")\n"
     ]
    }
   ],
   "source": [
    "import torch\n",
    "import torch.nn as nn\n",
    "import torch.nn.functional as F\n",
    "\n",
    "class SimpleCNN(nn.Module):\n",
    "    def __init__(self, num_classes=6):\n",
    "        super(SimpleCNN, self).__init__()\n",
    "\n",
    "        # Конволюційні шари\n",
    "        self.conv1 = nn.Conv2d(3, 32, kernel_size=3, padding=1)       \n",
    "        self.bn1 = nn.BatchNorm2d(32)\n",
    "        \n",
    "        self.conv2 = nn.Conv2d(32, 64, kernel_size=3, padding=1)       \n",
    "        self.bn2 = nn.BatchNorm2d(64)\n",
    "        \n",
    "        self.conv3 = nn.Conv2d(64, 128, kernel_size=3, padding=1)\n",
    "        self.bn3 = nn.BatchNorm2d(128)\n",
    "\n",
    "        # Пулінг\n",
    "        self.pool = nn.MaxPool2d(2, 2)  # 2x2 MaxPooling\n",
    "\n",
    "        # Автоматичний розрахунок розміру вхідних даних для першого fully connected шару\n",
    "        self.fc1_in_features = self._get_fc1_in_features()\n",
    "\n",
    "        # Полносвязні шари\n",
    "        self.fc1 = nn.Linear(self.fc1_in_features, 128)\n",
    "        self.fc2 = nn.Linear(128, num_classes)\n",
    "\n",
    "    def _get_fc1_in_features(self):\n",
    "        \"\"\"Визначає розмір вхідних даних для FC-шару.\"\"\"\n",
    "        with torch.no_grad():\n",
    "            dummy_input = torch.zeros(1, 3, 150, 150)\n",
    "            dummy_output = self._forward_conv_layers(dummy_input)\n",
    "            return dummy_output.numel()\n",
    "\n",
    "    def _forward_conv_layers(self, x):\n",
    "        \"\"\"Пропуск через всі Convolutional шари\"\"\"\n",
    "        x = self.pool(F.relu(self.bn1(self.conv1(x))))\n",
    "        x = self.pool(F.relu(self.bn2(self.conv2(x))))\n",
    "        x = self.pool(F.relu(self.bn3(self.conv3(x))))\n",
    "        return x\n",
    "\n",
    "    def forward(self, x):\n",
    "        x = self._forward_conv_layers(x)\n",
    "        x = x.view(-1, self.fc1_in_features)  # Перетворення тензора у вектор\n",
    "        x = F.relu(self.fc1(x))\n",
    "        x = self.fc2(x)\n",
    "        return x\n",
    "\n",
    "# Тестуємо модель\n",
    "model = SimpleCNN()\n",
    "print(model)"
   ]
  },
  {
   "cell_type": "code",
   "execution_count": 10,
   "id": "b90a6c04",
   "metadata": {
    "execution": {
     "iopub.execute_input": "2025-02-08T14:48:14.857221Z",
     "iopub.status.busy": "2025-02-08T14:48:14.856997Z",
     "iopub.status.idle": "2025-02-08T14:48:15.142038Z",
     "shell.execute_reply": "2025-02-08T14:48:15.141309Z"
    },
    "papermill": {
     "duration": 0.290597,
     "end_time": "2025-02-08T14:48:15.143573",
     "exception": false,
     "start_time": "2025-02-08T14:48:14.852976",
     "status": "completed"
    },
    "tags": []
   },
   "outputs": [],
   "source": [
    "model = SimpleCNN(num_classes=6)\n",
    "\n",
    "# Перенесення моделі на GPU, якщо доступно\n",
    "device = torch.device(\"cuda:0\" if torch.cuda.is_available() else \"cpu\")\n",
    "model = model.to(device)"
   ]
  },
  {
   "cell_type": "code",
   "execution_count": 11,
   "id": "cca95522",
   "metadata": {
    "execution": {
     "iopub.execute_input": "2025-02-08T14:48:15.151495Z",
     "iopub.status.busy": "2025-02-08T14:48:15.151269Z",
     "iopub.status.idle": "2025-02-08T14:48:15.155153Z",
     "shell.execute_reply": "2025-02-08T14:48:15.154545Z"
    },
    "papermill": {
     "duration": 0.008926,
     "end_time": "2025-02-08T14:48:15.156270",
     "exception": false,
     "start_time": "2025-02-08T14:48:15.147344",
     "status": "completed"
    },
    "tags": []
   },
   "outputs": [],
   "source": [
    "criterion = nn.CrossEntropyLoss()\n",
    "optimizer = optim.Adam(model.parameters(), lr=0.001)\n",
    "\n",
    "# Налаштування тренувального процесу\n",
    "num_epochs = 7\n",
    "best_val_loss = float('inf')\n",
    "train_losses = []\n",
    "train_accuracies = []\n",
    "val_losses = []\n",
    "val_accuracies = []"
   ]
  },
  {
   "cell_type": "code",
   "execution_count": 12,
   "id": "d14a42ed",
   "metadata": {
    "execution": {
     "iopub.execute_input": "2025-02-08T14:48:15.163723Z",
     "iopub.status.busy": "2025-02-08T14:48:15.163455Z",
     "iopub.status.idle": "2025-02-08T14:52:33.006649Z",
     "shell.execute_reply": "2025-02-08T14:52:33.005609Z"
    },
    "papermill": {
     "duration": 257.848402,
     "end_time": "2025-02-08T14:52:33.008067",
     "exception": false,
     "start_time": "2025-02-08T14:48:15.159665",
     "status": "completed"
    },
    "tags": []
   },
   "outputs": [
    {
     "name": "stderr",
     "output_type": "stream",
     "text": [
      "100%|██████████| 351/351 [01:05<00:00,  5.37it/s]\n"
     ]
    },
    {
     "name": "stdout",
     "output_type": "stream",
     "text": [
      "Epoch 1/7:\n",
      "Train Loss: 1.1929, Train Accuracy: 0.6247\n",
      "Val Loss: 0.7268, Val Accuracy: 0.7442\n"
     ]
    },
    {
     "name": "stderr",
     "output_type": "stream",
     "text": [
      "100%|██████████| 351/351 [00:25<00:00, 13.79it/s]\n"
     ]
    },
    {
     "name": "stdout",
     "output_type": "stream",
     "text": [
      "Epoch 2/7:\n",
      "Train Loss: 0.6264, Train Accuracy: 0.7739\n",
      "Val Loss: 0.6794, Val Accuracy: 0.7442\n"
     ]
    },
    {
     "name": "stderr",
     "output_type": "stream",
     "text": [
      "100%|██████████| 351/351 [00:24<00:00, 14.32it/s]\n"
     ]
    },
    {
     "name": "stdout",
     "output_type": "stream",
     "text": [
      "Epoch 3/7:\n",
      "Train Loss: 0.5338, Train Accuracy: 0.8057\n",
      "Val Loss: 0.5947, Val Accuracy: 0.7902\n"
     ]
    },
    {
     "name": "stderr",
     "output_type": "stream",
     "text": [
      "100%|██████████| 351/351 [00:25<00:00, 13.94it/s]\n"
     ]
    },
    {
     "name": "stdout",
     "output_type": "stream",
     "text": [
      "Epoch 4/7:\n",
      "Train Loss: 0.4819, Train Accuracy: 0.8256\n",
      "Val Loss: 0.6033, Val Accuracy: 0.7805\n"
     ]
    },
    {
     "name": "stderr",
     "output_type": "stream",
     "text": [
      "100%|██████████| 351/351 [00:24<00:00, 14.32it/s]\n"
     ]
    },
    {
     "name": "stdout",
     "output_type": "stream",
     "text": [
      "Epoch 5/7:\n",
      "Train Loss: 0.4581, Train Accuracy: 0.8333\n",
      "Val Loss: 0.7082, Val Accuracy: 0.7506\n"
     ]
    },
    {
     "name": "stderr",
     "output_type": "stream",
     "text": [
      "100%|██████████| 351/351 [00:25<00:00, 13.98it/s]\n"
     ]
    },
    {
     "name": "stdout",
     "output_type": "stream",
     "text": [
      "Epoch 6/7:\n",
      "Train Loss: 0.4016, Train Accuracy: 0.8503\n",
      "Val Loss: 0.6148, Val Accuracy: 0.7848\n"
     ]
    },
    {
     "name": "stderr",
     "output_type": "stream",
     "text": [
      "100%|██████████| 351/351 [00:24<00:00, 14.19it/s]\n"
     ]
    },
    {
     "name": "stdout",
     "output_type": "stream",
     "text": [
      "Epoch 7/7:\n",
      "Train Loss: 0.3522, Train Accuracy: 0.8696\n",
      "Val Loss: 0.5316, Val Accuracy: 0.8172\n"
     ]
    }
   ],
   "source": [
    "for epoch in range(num_epochs):\n",
    "    model.train()\n",
    "    running_loss = 0.0\n",
    "    correct = 0\n",
    "    total = 0\n",
    "\n",
    "    for inputs, labels in tqdm(train_loader):\n",
    "        inputs, labels = inputs.to(device), labels.to(device)\n",
    "\n",
    "        optimizer.zero_grad()\n",
    "        outputs = model(inputs)\n",
    "        loss = criterion(outputs, labels)\n",
    "        loss.backward()\n",
    "        optimizer.step()\n",
    "\n",
    "        running_loss += loss.item()\n",
    "\n",
    "        _, predicted = torch.max(outputs.data, 1)\n",
    "        total += labels.size(0)\n",
    "        correct += (predicted == labels).sum().item()\n",
    "\n",
    "    train_loss = running_loss / len(train_loader)\n",
    "    train_accuracy = correct / total\n",
    "    train_losses.append(train_loss)\n",
    "    train_accuracies.append(train_accuracy)\n",
    "\n",
    "    # Валідація\n",
    "    model.eval()\n",
    "    val_loss = 0.0\n",
    "    correct = 0\n",
    "    total = 0\n",
    "    with torch.no_grad():\n",
    "        for inputs, labels in val_loader:\n",
    "            inputs, labels = inputs.to(device), labels.to(device)\n",
    "            outputs = model(inputs)\n",
    "            loss = criterion(outputs, labels)\n",
    "            val_loss += loss.item()\n",
    "\n",
    "            _, predicted = torch.max(outputs.data, 1)\n",
    "            total += labels.size(0)\n",
    "            correct += (predicted == labels).sum().item()\n",
    "\n",
    "    val_loss /= len(val_loader)\n",
    "    val_accuracy = correct / total\n",
    "    val_losses.append(val_loss)\n",
    "    val_accuracies.append(val_accuracy)\n",
    "\n",
    "    print(f'Epoch {epoch+1}/{num_epochs}:')\n",
    "    print(f'Train Loss: {train_loss:.4f}, Train Accuracy: {train_accuracy:.4f}')\n",
    "    print(f'Val Loss: {val_loss:.4f}, Val Accuracy: {val_accuracy:.4f}')\n",
    "\n",
    "    if val_loss < best_val_loss:\n",
    "        best_val_loss = val_loss\n",
    "        torch.save(model.state_dict(), 'best_model_1.pth')"
   ]
  },
  {
   "cell_type": "code",
   "execution_count": 13,
   "id": "9f565981",
   "metadata": {
    "execution": {
     "iopub.execute_input": "2025-02-08T14:52:33.140175Z",
     "iopub.status.busy": "2025-02-08T14:52:33.139858Z",
     "iopub.status.idle": "2025-02-08T14:52:33.146960Z",
     "shell.execute_reply": "2025-02-08T14:52:33.146085Z"
    },
    "papermill": {
     "duration": 0.072488,
     "end_time": "2025-02-08T14:52:33.148325",
     "exception": false,
     "start_time": "2025-02-08T14:52:33.075837",
     "status": "completed"
    },
    "tags": []
   },
   "outputs": [],
   "source": [
    "def visualize_predictions(model, dataloader, class_names, num_images=5):\n",
    "    was_training = model.training\n",
    "    model.eval()\n",
    "    images_so_far = 0\n",
    "    fig = plt.figure(figsize=(15, 10))\n",
    "\n",
    "    with torch.no_grad():\n",
    "        for inputs, labels in dataloader:\n",
    "            inputs = inputs.to(device)\n",
    "            labels = labels.to(device)\n",
    "\n",
    "            outputs = model(inputs)\n",
    "            _, preds = torch.max(outputs, 1)\n",
    "\n",
    "            for j in range(inputs.size(0)):\n",
    "                if images_so_far == num_images:\n",
    "                    model.train(mode=was_training)\n",
    "                    plt.tight_layout()\n",
    "                    plt.show()\n",
    "                    return\n",
    "\n",
    "                images_so_far += 1\n",
    "                ax = plt.subplot(num_images//2 + 1, 2, images_so_far)\n",
    "                ax.axis('off')\n",
    "                ax.set_title(f'Predicted: {class_names[preds[j]]}\\nTrue: {class_names[labels[j]]}')\n",
    "\n",
    "                # Денормалізація зображення для відображення\n",
    "                inv_normalize = transforms.Normalize(\n",
    "                    mean=[-0.485/0.229, -0.456/0.224, -0.406/0.225],\n",
    "                    std=[1/0.229, 1/0.224, 1/0.225]\n",
    "                )\n",
    "                inp = inv_normalize(inputs.cpu()[j]).numpy().transpose((1, 2, 0))\n",
    "                inp = np.clip(inp, 0, 1)\n",
    "\n",
    "                plt.imshow(inp)\n",
    "\n",
    "    model.train(mode=was_training)\n",
    "    plt.tight_layout()\n",
    "    plt.show()"
   ]
  },
  {
   "cell_type": "code",
   "execution_count": 14,
   "id": "84d7f2f0",
   "metadata": {
    "execution": {
     "iopub.execute_input": "2025-02-08T14:52:33.276968Z",
     "iopub.status.busy": "2025-02-08T14:52:33.276745Z",
     "iopub.status.idle": "2025-02-08T14:52:33.281676Z",
     "shell.execute_reply": "2025-02-08T14:52:33.280992Z"
    },
    "papermill": {
     "duration": 0.069748,
     "end_time": "2025-02-08T14:52:33.282734",
     "exception": false,
     "start_time": "2025-02-08T14:52:33.212986",
     "status": "completed"
    },
    "tags": []
   },
   "outputs": [],
   "source": [
    "def plot_training_metrics(train_losses, train_accuracies, val_losses, val_accuracies):\n",
    "    epochs = range(1, len(train_losses) + 1)\n",
    "\n",
    "    plt.figure(figsize=(12, 5))\n",
    "\n",
    "    # Plot loss\n",
    "    plt.subplot(1, 2, 1)\n",
    "    plt.plot(epochs, train_losses, 'b-', label='Training Loss')\n",
    "    plt.plot(epochs, val_losses, 'r-', label='Validation Loss')\n",
    "    plt.title('Training and Validation Loss')\n",
    "    plt.xlabel('Epochs')\n",
    "    plt.ylabel('Loss')\n",
    "    plt.legend()\n",
    "\n",
    "    # Plot accuracy\n",
    "    plt.subplot(1, 2, 2)\n",
    "    plt.plot(epochs, train_accuracies, 'b-', label='Training Accuracy')\n",
    "    plt.plot(epochs, val_accuracies, 'r-', label='Validation Accuracy')\n",
    "    plt.title('Training and Validation Accuracy')\n",
    "    plt.xlabel('Epochs')\n",
    "    plt.ylabel('Accuracy')\n",
    "    plt.legend()\n",
    "\n",
    "    plt.tight_layout()\n",
    "    plt.show()"
   ]
  },
  {
   "cell_type": "code",
   "execution_count": 15,
   "id": "4cdfa208",
   "metadata": {
    "execution": {
     "iopub.execute_input": "2025-02-08T14:52:33.448260Z",
     "iopub.status.busy": "2025-02-08T14:52:33.447978Z",
     "iopub.status.idle": "2025-02-08T14:52:57.041296Z",
     "shell.execute_reply": "2025-02-08T14:52:57.040576Z"
    },
    "papermill": {
     "duration": 23.659077,
     "end_time": "2025-02-08T14:52:57.042868",
     "exception": false,
     "start_time": "2025-02-08T14:52:33.383791",
     "status": "completed"
    },
    "tags": []
   },
   "outputs": [],
   "source": [
    "model.load_state_dict(torch.load('best_model_1.pth'))\n",
    "model.eval()\n",
    "\n",
    "correct = 0\n",
    "total = 0\n",
    "all_preds = []\n",
    "all_labels = []\n",
    "\n",
    "with torch.no_grad():\n",
    "    for inputs, labels in test_loader:\n",
    "        inputs, labels = inputs.to(device), labels.to(device)\n",
    "        outputs = model(inputs)\n",
    "        _, predicted = torch.max(outputs.data, 1)\n",
    "        total += labels.size(0)\n",
    "        correct += (predicted == labels).sum().item()\n",
    "        all_preds.extend(predicted.cpu().numpy())\n",
    "        all_labels.extend(labels.cpu().numpy())"
   ]
  },
  {
   "cell_type": "code",
   "execution_count": 16,
   "id": "84bcab98",
   "metadata": {
    "execution": {
     "iopub.execute_input": "2025-02-08T14:52:57.173841Z",
     "iopub.status.busy": "2025-02-08T14:52:57.173480Z",
     "iopub.status.idle": "2025-02-08T14:52:57.261840Z",
     "shell.execute_reply": "2025-02-08T14:52:57.260707Z"
    },
    "papermill": {
     "duration": 0.154565,
     "end_time": "2025-02-08T14:52:57.262961",
     "exception": true,
     "start_time": "2025-02-08T14:52:57.108396",
     "status": "failed"
    },
    "tags": []
   },
   "outputs": [
    {
     "ename": "AttributeError",
     "evalue": "'Subset' object has no attribute 'classes'",
     "output_type": "error",
     "traceback": [
      "\u001b[0;31m---------------------------------------------------------------------------\u001b[0m",
      "\u001b[0;31mAttributeError\u001b[0m                            Traceback (most recent call last)",
      "\u001b[0;32m<ipython-input-16-7fc15c890bbc>\u001b[0m in \u001b[0;36m<cell line: 1>\u001b[0;34m()\u001b[0m\n\u001b[0;32m----> 1\u001b[0;31m \u001b[0mclass_names\u001b[0m \u001b[0;34m=\u001b[0m \u001b[0mtrain_dataset\u001b[0m\u001b[0;34m.\u001b[0m\u001b[0mclasses\u001b[0m\u001b[0;34m\u001b[0m\u001b[0;34m\u001b[0m\u001b[0m\n\u001b[0m\u001b[1;32m      2\u001b[0m \u001b[0;34m\u001b[0m\u001b[0m\n\u001b[1;32m      3\u001b[0m \u001b[0;31m# Обчислення точності та F1\u001b[0m\u001b[0;34m\u001b[0m\u001b[0;34m\u001b[0m\u001b[0m\n\u001b[1;32m      4\u001b[0m \u001b[0mtest_accuracy\u001b[0m \u001b[0;34m=\u001b[0m \u001b[0mcorrect\u001b[0m \u001b[0;34m/\u001b[0m \u001b[0mtotal\u001b[0m\u001b[0;34m\u001b[0m\u001b[0;34m\u001b[0m\u001b[0m\n\u001b[1;32m      5\u001b[0m \u001b[0mf1\u001b[0m \u001b[0;34m=\u001b[0m \u001b[0mf1_score\u001b[0m\u001b[0;34m(\u001b[0m\u001b[0mall_labels\u001b[0m\u001b[0;34m,\u001b[0m \u001b[0mall_preds\u001b[0m\u001b[0;34m,\u001b[0m \u001b[0maverage\u001b[0m\u001b[0;34m=\u001b[0m\u001b[0;34m'weighted'\u001b[0m\u001b[0;34m)\u001b[0m\u001b[0;34m\u001b[0m\u001b[0;34m\u001b[0m\u001b[0m\n",
      "\u001b[0;31mAttributeError\u001b[0m: 'Subset' object has no attribute 'classes'"
     ]
    }
   ],
   "source": [
    "class_names = train_dataset.classes \n",
    "\n",
    "# Обчислення точності та F1 \n",
    "test_accuracy = correct / total\n",
    "f1 = f1_score(all_labels, all_preds, average='weighted')\n",
    "\n",
    "print(f'Test Accuracy: {test_accuracy:.4f}')\n",
    "print(f'F1 Score: {f1:.4f}')\n",
    "\n",
    "# Створення матриці помилок\n",
    "cm = confusion_matrix(all_labels, all_preds)\n",
    "plt.figure(figsize=(10,8))\n",
    "sns.heatmap(cm, annot=True, fmt='d', cmap='Blues',\n",
    "            xticklabels=class_names, yticklabels=class_names)\n",
    "plt.title('Confusion Matrix')\n",
    "plt.ylabel('True label')\n",
    "plt.xlabel('Predicted label')\n",
    "plt.show()"
   ]
  },
  {
   "cell_type": "code",
   "execution_count": null,
   "id": "dad15990",
   "metadata": {
    "papermill": {
     "duration": null,
     "end_time": null,
     "exception": null,
     "start_time": null,
     "status": "pending"
    },
    "tags": []
   },
   "outputs": [],
   "source": [
    "plot_training_metrics(train_losses, train_accuracies, val_losses, val_accuracies)"
   ]
  },
  {
   "cell_type": "code",
   "execution_count": null,
   "id": "ab4fbfcf",
   "metadata": {
    "papermill": {
     "duration": null,
     "end_time": null,
     "exception": null,
     "start_time": null,
     "status": "pending"
    },
    "tags": []
   },
   "outputs": [],
   "source": [
    "visualize_predictions(model, test_loader, train_dataset.classes, 15)"
   ]
  }
 ],
 "metadata": {
  "kaggle": {
   "accelerator": "gpu",
   "dataSources": [
    {
     "datasetId": 111880,
     "sourceId": 269359,
     "sourceType": "datasetVersion"
    }
   ],
   "dockerImageVersionId": 30887,
   "isGpuEnabled": true,
   "isInternetEnabled": true,
   "language": "python",
   "sourceType": "notebook"
  },
  "kernelspec": {
   "display_name": "Python 3",
   "language": "python",
   "name": "python3"
  },
  "language_info": {
   "codemirror_mode": {
    "name": "ipython",
    "version": 3
   },
   "file_extension": ".py",
   "mimetype": "text/x-python",
   "name": "python",
   "nbconvert_exporter": "python",
   "pygments_lexer": "ipython3",
   "version": "3.10.12"
  },
  "papermill": {
   "default_parameters": {},
   "duration": 319.641041,
   "end_time": "2025-02-08T14:52:58.946835",
   "environment_variables": {},
   "exception": true,
   "input_path": "__notebook__.ipynb",
   "output_path": "__notebook__.ipynb",
   "parameters": {},
   "start_time": "2025-02-08T14:47:39.305794",
   "version": "2.6.0"
  }
 },
 "nbformat": 4,
 "nbformat_minor": 5
}
